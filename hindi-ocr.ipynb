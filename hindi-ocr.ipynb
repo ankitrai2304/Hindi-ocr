{
 "cells": [
  {
   "cell_type": "code",
   "execution_count": 1,
   "id": "6e6a0bda",
   "metadata": {
    "_cell_guid": "b1076dfc-b9ad-4769-8c92-a6c4dae69d19",
    "_uuid": "8f2839f25d086af736a60e9eeb907d3b93b6e0e5",
    "execution": {
     "iopub.execute_input": "2025-01-16T07:07:01.138124Z",
     "iopub.status.busy": "2025-01-16T07:07:01.137823Z",
     "iopub.status.idle": "2025-01-16T07:10:25.241536Z",
     "shell.execute_reply": "2025-01-16T07:10:25.240465Z"
    },
    "papermill": {
     "duration": 204.114659,
     "end_time": "2025-01-16T07:10:25.243658",
     "exception": false,
     "start_time": "2025-01-16T07:07:01.128999",
     "status": "completed"
    },
    "tags": []
   },
   "outputs": [],
   "source": [
    "# This Python 3 environment comes with many helpful analytics libraries installed\n",
    "# It is defined by the kaggle/python Docker image: https://github.com/kaggle/docker-python\n",
    "# For example, here's several helpful packages to load\n",
    "\n",
    "import numpy as np # linear algebra\n",
    "import pandas as pd # data processing, CSV file I/O (e.g. pd.read_csv)\n",
    "\n",
    "# Input data files are available in the read-only \"../input/\" directory\n",
    "# For example, running this (by clicking run or pressing Shift+Enter) will list all files under the input directory\n",
    "\n",
    "import os\n",
    "for dirname, _, filenames in os.walk('/kaggle/input'):\n",
    "    for filename in filenames:\n",
    "        pass\n",
    "        #print(os.path.join(dirname, filename))\n",
    "\n",
    "# You can write up to 20GB to the current directory (/kaggle/working/) that gets preserved ??$#s output when you create a version using \"Save & Run All\" \n",
    "# You can also write temporary files to /kaggle/temp/, but they won't be saved outside of the current session"
   ]
  },
  {
   "cell_type": "code",
   "execution_count": 2,
   "id": "4c556a2d",
   "metadata": {
    "execution": {
     "iopub.execute_input": "2025-01-16T07:10:25.260023Z",
     "iopub.status.busy": "2025-01-16T07:10:25.259579Z",
     "iopub.status.idle": "2025-01-16T07:10:34.174177Z",
     "shell.execute_reply": "2025-01-16T07:10:34.173092Z"
    },
    "papermill": {
     "duration": 8.92452,
     "end_time": "2025-01-16T07:10:34.176021",
     "exception": false,
     "start_time": "2025-01-16T07:10:25.251501",
     "status": "completed"
    },
    "tags": []
   },
   "outputs": [],
   "source": [
    "import cv2 as cv\n",
    "import matplotlib.pyplot as plt\n",
    "import tensorflow as tf\n",
    "from tensorflow import keras\n",
    "from tensorflow.keras import Sequential\n",
    "from tensorflow.keras.layers import Dense, Conv2D, Flatten, MaxPooling2D, Dropout, GlobalAveragePooling2D, BatchNormalization\n",
    "from tensorflow.keras.regularizers import l2"
   ]
  },
  {
   "cell_type": "code",
   "execution_count": 3,
   "id": "f710b8c3",
   "metadata": {
    "execution": {
     "iopub.execute_input": "2025-01-16T07:10:34.192208Z",
     "iopub.status.busy": "2025-01-16T07:10:34.191488Z",
     "iopub.status.idle": "2025-01-16T07:10:35.150324Z",
     "shell.execute_reply": "2025-01-16T07:10:35.149479Z"
    },
    "papermill": {
     "duration": 0.968575,
     "end_time": "2025-01-16T07:10:35.152038",
     "exception": false,
     "start_time": "2025-01-16T07:10:34.183463",
     "status": "completed"
    },
    "tags": []
   },
   "outputs": [],
   "source": [
    "import os\n",
    "import numpy as np\n",
    "from sklearn.preprocessing import LabelEncoder\n",
    "from sklearn.metrics import classification_report, accuracy_score\n",
    "from sklearn.model_selection import train_test_split"
   ]
  },
  {
   "cell_type": "code",
   "execution_count": 4,
   "id": "f00f39e8",
   "metadata": {
    "execution": {
     "iopub.execute_input": "2025-01-16T07:10:35.168248Z",
     "iopub.status.busy": "2025-01-16T07:10:35.167633Z",
     "iopub.status.idle": "2025-01-16T07:10:35.171664Z",
     "shell.execute_reply": "2025-01-16T07:10:35.170719Z"
    },
    "papermill": {
     "duration": 0.013543,
     "end_time": "2025-01-16T07:10:35.173130",
     "exception": false,
     "start_time": "2025-01-16T07:10:35.159587",
     "status": "completed"
    },
    "tags": []
   },
   "outputs": [],
   "source": [
    "dir = \"/kaggle/input/hindi-character-recognition/DevanagariHandwrittenCharacterDataset\""
   ]
  },
  {
   "cell_type": "code",
   "execution_count": 5,
   "id": "e8f568f8",
   "metadata": {
    "execution": {
     "iopub.execute_input": "2025-01-16T07:10:35.189296Z",
     "iopub.status.busy": "2025-01-16T07:10:35.188951Z",
     "iopub.status.idle": "2025-01-16T07:10:35.194652Z",
     "shell.execute_reply": "2025-01-16T07:10:35.193740Z"
    },
    "papermill": {
     "duration": 0.01498,
     "end_time": "2025-01-16T07:10:35.195977",
     "exception": false,
     "start_time": "2025-01-16T07:10:35.180997",
     "status": "completed"
    },
    "tags": []
   },
   "outputs": [],
   "source": [
    "def get_array_from_images(need ):\n",
    "    dir = \"/kaggle/input/hindi-character-recognition/DevanagariHandwrittenCharacterDataset\"\n",
    "    data = []\n",
    "    labels = []\n",
    "    \n",
    "    path = os.path.join(dir, need)\n",
    "\n",
    "    for files in os.listdir(path):\n",
    "        each_words_dir = os.path.join(path,files)\n",
    "        for img in os.listdir(each_words_dir):\n",
    "            img_path = os.path.join(each_words_dir, img)\n",
    "            img_array = cv.imread(img_path)\n",
    "            data.append(img_array)\n",
    "            labels.append(files)\n",
    "\n",
    "\n",
    "    return (np.array(data), np.array(labels))        \n",
    "    "
   ]
  },
  {
   "cell_type": "code",
   "execution_count": 6,
   "id": "9fd05119",
   "metadata": {
    "execution": {
     "iopub.execute_input": "2025-01-16T07:10:35.211111Z",
     "iopub.status.busy": "2025-01-16T07:10:35.210827Z",
     "iopub.status.idle": "2025-01-16T07:10:35.215779Z",
     "shell.execute_reply": "2025-01-16T07:10:35.214960Z"
    },
    "papermill": {
     "duration": 0.013875,
     "end_time": "2025-01-16T07:10:35.217027",
     "exception": false,
     "start_time": "2025-01-16T07:10:35.203152",
     "status": "completed"
    },
    "tags": []
   },
   "outputs": [
    {
     "name": "stdout",
     "output_type": "stream",
     "text": [
      "['__notebook__.ipynb']\n"
     ]
    }
   ],
   "source": [
    "print(os.listdir())"
   ]
  },
  {
   "cell_type": "code",
   "execution_count": 7,
   "id": "8f57b91b",
   "metadata": {
    "execution": {
     "iopub.execute_input": "2025-01-16T07:10:35.232235Z",
     "iopub.status.busy": "2025-01-16T07:10:35.231935Z",
     "iopub.status.idle": "2025-01-16T07:19:59.652690Z",
     "shell.execute_reply": "2025-01-16T07:19:59.651777Z"
    },
    "papermill": {
     "duration": 564.430372,
     "end_time": "2025-01-16T07:19:59.654686",
     "exception": false,
     "start_time": "2025-01-16T07:10:35.224314",
     "status": "completed"
    },
    "tags": []
   },
   "outputs": [],
   "source": [
    "X_train, y_train = get_array_from_images('Train' )\n",
    "X_test, y_test = get_array_from_images(\"Test\")"
   ]
  },
  {
   "cell_type": "code",
   "execution_count": 8,
   "id": "0ef329e5",
   "metadata": {
    "execution": {
     "iopub.execute_input": "2025-01-16T07:19:59.671849Z",
     "iopub.status.busy": "2025-01-16T07:19:59.671318Z",
     "iopub.status.idle": "2025-01-16T07:20:00.421026Z",
     "shell.execute_reply": "2025-01-16T07:20:00.420157Z"
    },
    "papermill": {
     "duration": 0.759908,
     "end_time": "2025-01-16T07:20:00.422862",
     "exception": false,
     "start_time": "2025-01-16T07:19:59.662954",
     "status": "completed"
    },
    "tags": []
   },
   "outputs": [],
   "source": [
    "X_train = X_train/255\n",
    "X_test = X_test/255"
   ]
  },
  {
   "cell_type": "code",
   "execution_count": 9,
   "id": "cafbcbd3",
   "metadata": {
    "execution": {
     "iopub.execute_input": "2025-01-16T07:20:00.439421Z",
     "iopub.status.busy": "2025-01-16T07:20:00.439049Z",
     "iopub.status.idle": "2025-01-16T07:20:00.475447Z",
     "shell.execute_reply": "2025-01-16T07:20:00.474563Z"
    },
    "papermill": {
     "duration": 0.046346,
     "end_time": "2025-01-16T07:20:00.477247",
     "exception": false,
     "start_time": "2025-01-16T07:20:00.430901",
     "status": "completed"
    },
    "tags": []
   },
   "outputs": [],
   "source": [
    "le = LabelEncoder()\n",
    "y_train = le.fit_transform(y_train)\n",
    "y_test = le.transform(y_test)"
   ]
  },
  {
   "cell_type": "code",
   "execution_count": 10,
   "id": "9eb774ef",
   "metadata": {
    "execution": {
     "iopub.execute_input": "2025-01-16T07:20:00.493466Z",
     "iopub.status.busy": "2025-01-16T07:20:00.493102Z",
     "iopub.status.idle": "2025-01-16T07:20:00.496595Z",
     "shell.execute_reply": "2025-01-16T07:20:00.495789Z"
    },
    "papermill": {
     "duration": 0.013001,
     "end_time": "2025-01-16T07:20:00.498026",
     "exception": false,
     "start_time": "2025-01-16T07:20:00.485025",
     "status": "completed"
    },
    "tags": []
   },
   "outputs": [],
   "source": [
    "# print(len(np.unique(y_test)))  # Print the number of unique labels\n"
   ]
  },
  {
   "cell_type": "code",
   "execution_count": 11,
   "id": "0edc92df",
   "metadata": {
    "execution": {
     "iopub.execute_input": "2025-01-16T07:20:00.513738Z",
     "iopub.status.busy": "2025-01-16T07:20:00.513364Z",
     "iopub.status.idle": "2025-01-16T07:20:00.517176Z",
     "shell.execute_reply": "2025-01-16T07:20:00.516270Z"
    },
    "papermill": {
     "duration": 0.013262,
     "end_time": "2025-01-16T07:20:00.518691",
     "exception": false,
     "start_time": "2025-01-16T07:20:00.505429",
     "status": "completed"
    },
    "tags": []
   },
   "outputs": [],
   "source": [
    "# # Data Augmentation Configuration\n",
    "# train_datagen = ImageDataGenerator(\n",
    "#     rescale=1./255,                # Normalize the images to [0, 1]\n",
    "#     rotation_range=40,             # Random rotation between -40 and 40 degrees\n",
    "#     width_shift_range=0.2,         # Random width shift (20% of the width)\n",
    "#     height_shift_range=0.2,        # Random height shift (20% of the height)\n",
    "#     shear_range=0.2,               # Random shear (distort the image)\n",
    "#     zoom_range=0.2,                # Random zoom (20% zoom)\n",
    "#     horizontal_flip=True,          # Randomly flip the image horizontally\n",
    "#     fill_mode='nearest',           # Fill newly created pixels after transformation with the nearest value\n",
    "#     brightness_range=[0.5, 1.5]    # Randomly adjust brightness (50% dim to 50% bright)\n",
    "# )"
   ]
  },
  {
   "cell_type": "code",
   "execution_count": 12,
   "id": "2c911d05",
   "metadata": {
    "execution": {
     "iopub.execute_input": "2025-01-16T07:20:00.534582Z",
     "iopub.status.busy": "2025-01-16T07:20:00.534216Z",
     "iopub.status.idle": "2025-01-16T07:20:00.537515Z",
     "shell.execute_reply": "2025-01-16T07:20:00.536686Z"
    },
    "papermill": {
     "duration": 0.01265,
     "end_time": "2025-01-16T07:20:00.538900",
     "exception": false,
     "start_time": "2025-01-16T07:20:00.526250",
     "status": "completed"
    },
    "tags": []
   },
   "outputs": [],
   "source": [
    "# # Apply the same augmentation to your training data\n",
    "# train_generator = train_datagen.flow(X_train, y_train, batch_size=32)"
   ]
  },
  {
   "cell_type": "code",
   "execution_count": 13,
   "id": "818bb463",
   "metadata": {
    "execution": {
     "iopub.execute_input": "2025-01-16T07:20:00.554507Z",
     "iopub.status.busy": "2025-01-16T07:20:00.554165Z",
     "iopub.status.idle": "2025-01-16T07:20:00.557293Z",
     "shell.execute_reply": "2025-01-16T07:20:00.556580Z"
    },
    "papermill": {
     "duration": 0.012315,
     "end_time": "2025-01-16T07:20:00.558735",
     "exception": false,
     "start_time": "2025-01-16T07:20:00.546420",
     "status": "completed"
    },
    "tags": []
   },
   "outputs": [],
   "source": [
    "# # Validation Data Augmentation (no transformation, just rescaling)\n",
    "# val_datagen = ImageDataGenerator(rescale=1./255)\n",
    "# val_generator = val_datagen.flow(X_test, y_test, batch_size=32)"
   ]
  },
  {
   "cell_type": "code",
   "execution_count": 14,
   "id": "01fc08a2",
   "metadata": {
    "execution": {
     "iopub.execute_input": "2025-01-16T07:20:00.574595Z",
     "iopub.status.busy": "2025-01-16T07:20:00.574216Z",
     "iopub.status.idle": "2025-01-16T07:20:01.356691Z",
     "shell.execute_reply": "2025-01-16T07:20:01.355799Z"
    },
    "papermill": {
     "duration": 0.792406,
     "end_time": "2025-01-16T07:20:01.358623",
     "exception": false,
     "start_time": "2025-01-16T07:20:00.566217",
     "status": "completed"
    },
    "tags": []
   },
   "outputs": [
    {
     "name": "stderr",
     "output_type": "stream",
     "text": [
      "/usr/local/lib/python3.10/dist-packages/keras/src/layers/convolutional/base_conv.py:107: UserWarning: Do not pass an `input_shape`/`input_dim` argument to a layer. When using Sequential models, prefer using an `Input(shape)` object as the first layer in the model instead.\n",
      "  super().__init__(activity_regularizer=activity_regularizer, **kwargs)\n"
     ]
    }
   ],
   "source": [
    "model = Sequential([\n",
    "    Conv2D(32, (3, 3), activation='relu', input_shape=(32, 32, 3)),\n",
    "    BatchNormalization(),\n",
    "    MaxPooling2D((2, 2)),\n",
    "\n",
    "    Conv2D(64, (3, 3), activation='relu'),\n",
    "    BatchNormalization(),\n",
    "    MaxPooling2D((2, 2)),\n",
    "\n",
    "    Conv2D(128, (3, 3), activation='relu'),\n",
    "    BatchNormalization(),\n",
    "    MaxPooling2D((2, 2)),\n",
    "\n",
    "    GlobalAveragePooling2D(),\n",
    "\n",
    "    Dense(512, activation='relu', kernel_regularizer=l2(0.01)),\n",
    "    Dropout(0.5),\n",
    "\n",
    "    Dense(46, activation='softmax')\n",
    "])"
   ]
  },
  {
   "cell_type": "code",
   "execution_count": 15,
   "id": "e103e808",
   "metadata": {
    "execution": {
     "iopub.execute_input": "2025-01-16T07:20:01.375414Z",
     "iopub.status.busy": "2025-01-16T07:20:01.375011Z",
     "iopub.status.idle": "2025-01-16T07:20:01.400492Z",
     "shell.execute_reply": "2025-01-16T07:20:01.399527Z"
    },
    "papermill": {
     "duration": 0.03538,
     "end_time": "2025-01-16T07:20:01.402096",
     "exception": false,
     "start_time": "2025-01-16T07:20:01.366716",
     "status": "completed"
    },
    "tags": []
   },
   "outputs": [
    {
     "data": {
      "text/html": [
       "<pre style=\"white-space:pre;overflow-x:auto;line-height:normal;font-family:Menlo,'DejaVu Sans Mono',consolas,'Courier New',monospace\"><span style=\"font-weight: bold\">Model: \"sequential\"</span>\n",
       "</pre>\n"
      ],
      "text/plain": [
       "\u001b[1mModel: \"sequential\"\u001b[0m\n"
      ]
     },
     "metadata": {},
     "output_type": "display_data"
    },
    {
     "data": {
      "text/html": [
       "<pre style=\"white-space:pre;overflow-x:auto;line-height:normal;font-family:Menlo,'DejaVu Sans Mono',consolas,'Courier New',monospace\">┏━━━━━━━━━━━━━━━━━━━━━━━━━━━━━━━━━━━━━━┳━━━━━━━━━━━━━━━━━━━━━━━━━━━━━┳━━━━━━━━━━━━━━━━━┓\n",
       "┃<span style=\"font-weight: bold\"> Layer (type)                         </span>┃<span style=\"font-weight: bold\"> Output Shape                </span>┃<span style=\"font-weight: bold\">         Param # </span>┃\n",
       "┡━━━━━━━━━━━━━━━━━━━━━━━━━━━━━━━━━━━━━━╇━━━━━━━━━━━━━━━━━━━━━━━━━━━━━╇━━━━━━━━━━━━━━━━━┩\n",
       "│ conv2d (<span style=\"color: #0087ff; text-decoration-color: #0087ff\">Conv2D</span>)                      │ (<span style=\"color: #00d7ff; text-decoration-color: #00d7ff\">None</span>, <span style=\"color: #00af00; text-decoration-color: #00af00\">30</span>, <span style=\"color: #00af00; text-decoration-color: #00af00\">30</span>, <span style=\"color: #00af00; text-decoration-color: #00af00\">32</span>)          │             <span style=\"color: #00af00; text-decoration-color: #00af00\">896</span> │\n",
       "├──────────────────────────────────────┼─────────────────────────────┼─────────────────┤\n",
       "│ batch_normalization                  │ (<span style=\"color: #00d7ff; text-decoration-color: #00d7ff\">None</span>, <span style=\"color: #00af00; text-decoration-color: #00af00\">30</span>, <span style=\"color: #00af00; text-decoration-color: #00af00\">30</span>, <span style=\"color: #00af00; text-decoration-color: #00af00\">32</span>)          │             <span style=\"color: #00af00; text-decoration-color: #00af00\">128</span> │\n",
       "│ (<span style=\"color: #0087ff; text-decoration-color: #0087ff\">BatchNormalization</span>)                 │                             │                 │\n",
       "├──────────────────────────────────────┼─────────────────────────────┼─────────────────┤\n",
       "│ max_pooling2d (<span style=\"color: #0087ff; text-decoration-color: #0087ff\">MaxPooling2D</span>)         │ (<span style=\"color: #00d7ff; text-decoration-color: #00d7ff\">None</span>, <span style=\"color: #00af00; text-decoration-color: #00af00\">15</span>, <span style=\"color: #00af00; text-decoration-color: #00af00\">15</span>, <span style=\"color: #00af00; text-decoration-color: #00af00\">32</span>)          │               <span style=\"color: #00af00; text-decoration-color: #00af00\">0</span> │\n",
       "├──────────────────────────────────────┼─────────────────────────────┼─────────────────┤\n",
       "│ conv2d_1 (<span style=\"color: #0087ff; text-decoration-color: #0087ff\">Conv2D</span>)                    │ (<span style=\"color: #00d7ff; text-decoration-color: #00d7ff\">None</span>, <span style=\"color: #00af00; text-decoration-color: #00af00\">13</span>, <span style=\"color: #00af00; text-decoration-color: #00af00\">13</span>, <span style=\"color: #00af00; text-decoration-color: #00af00\">64</span>)          │          <span style=\"color: #00af00; text-decoration-color: #00af00\">18,496</span> │\n",
       "├──────────────────────────────────────┼─────────────────────────────┼─────────────────┤\n",
       "│ batch_normalization_1                │ (<span style=\"color: #00d7ff; text-decoration-color: #00d7ff\">None</span>, <span style=\"color: #00af00; text-decoration-color: #00af00\">13</span>, <span style=\"color: #00af00; text-decoration-color: #00af00\">13</span>, <span style=\"color: #00af00; text-decoration-color: #00af00\">64</span>)          │             <span style=\"color: #00af00; text-decoration-color: #00af00\">256</span> │\n",
       "│ (<span style=\"color: #0087ff; text-decoration-color: #0087ff\">BatchNormalization</span>)                 │                             │                 │\n",
       "├──────────────────────────────────────┼─────────────────────────────┼─────────────────┤\n",
       "│ max_pooling2d_1 (<span style=\"color: #0087ff; text-decoration-color: #0087ff\">MaxPooling2D</span>)       │ (<span style=\"color: #00d7ff; text-decoration-color: #00d7ff\">None</span>, <span style=\"color: #00af00; text-decoration-color: #00af00\">6</span>, <span style=\"color: #00af00; text-decoration-color: #00af00\">6</span>, <span style=\"color: #00af00; text-decoration-color: #00af00\">64</span>)            │               <span style=\"color: #00af00; text-decoration-color: #00af00\">0</span> │\n",
       "├──────────────────────────────────────┼─────────────────────────────┼─────────────────┤\n",
       "│ conv2d_2 (<span style=\"color: #0087ff; text-decoration-color: #0087ff\">Conv2D</span>)                    │ (<span style=\"color: #00d7ff; text-decoration-color: #00d7ff\">None</span>, <span style=\"color: #00af00; text-decoration-color: #00af00\">4</span>, <span style=\"color: #00af00; text-decoration-color: #00af00\">4</span>, <span style=\"color: #00af00; text-decoration-color: #00af00\">128</span>)           │          <span style=\"color: #00af00; text-decoration-color: #00af00\">73,856</span> │\n",
       "├──────────────────────────────────────┼─────────────────────────────┼─────────────────┤\n",
       "│ batch_normalization_2                │ (<span style=\"color: #00d7ff; text-decoration-color: #00d7ff\">None</span>, <span style=\"color: #00af00; text-decoration-color: #00af00\">4</span>, <span style=\"color: #00af00; text-decoration-color: #00af00\">4</span>, <span style=\"color: #00af00; text-decoration-color: #00af00\">128</span>)           │             <span style=\"color: #00af00; text-decoration-color: #00af00\">512</span> │\n",
       "│ (<span style=\"color: #0087ff; text-decoration-color: #0087ff\">BatchNormalization</span>)                 │                             │                 │\n",
       "├──────────────────────────────────────┼─────────────────────────────┼─────────────────┤\n",
       "│ max_pooling2d_2 (<span style=\"color: #0087ff; text-decoration-color: #0087ff\">MaxPooling2D</span>)       │ (<span style=\"color: #00d7ff; text-decoration-color: #00d7ff\">None</span>, <span style=\"color: #00af00; text-decoration-color: #00af00\">2</span>, <span style=\"color: #00af00; text-decoration-color: #00af00\">2</span>, <span style=\"color: #00af00; text-decoration-color: #00af00\">128</span>)           │               <span style=\"color: #00af00; text-decoration-color: #00af00\">0</span> │\n",
       "├──────────────────────────────────────┼─────────────────────────────┼─────────────────┤\n",
       "│ global_average_pooling2d             │ (<span style=\"color: #00d7ff; text-decoration-color: #00d7ff\">None</span>, <span style=\"color: #00af00; text-decoration-color: #00af00\">128</span>)                 │               <span style=\"color: #00af00; text-decoration-color: #00af00\">0</span> │\n",
       "│ (<span style=\"color: #0087ff; text-decoration-color: #0087ff\">GlobalAveragePooling2D</span>)             │                             │                 │\n",
       "├──────────────────────────────────────┼─────────────────────────────┼─────────────────┤\n",
       "│ dense (<span style=\"color: #0087ff; text-decoration-color: #0087ff\">Dense</span>)                        │ (<span style=\"color: #00d7ff; text-decoration-color: #00d7ff\">None</span>, <span style=\"color: #00af00; text-decoration-color: #00af00\">512</span>)                 │          <span style=\"color: #00af00; text-decoration-color: #00af00\">66,048</span> │\n",
       "├──────────────────────────────────────┼─────────────────────────────┼─────────────────┤\n",
       "│ dropout (<span style=\"color: #0087ff; text-decoration-color: #0087ff\">Dropout</span>)                    │ (<span style=\"color: #00d7ff; text-decoration-color: #00d7ff\">None</span>, <span style=\"color: #00af00; text-decoration-color: #00af00\">512</span>)                 │               <span style=\"color: #00af00; text-decoration-color: #00af00\">0</span> │\n",
       "├──────────────────────────────────────┼─────────────────────────────┼─────────────────┤\n",
       "│ dense_1 (<span style=\"color: #0087ff; text-decoration-color: #0087ff\">Dense</span>)                      │ (<span style=\"color: #00d7ff; text-decoration-color: #00d7ff\">None</span>, <span style=\"color: #00af00; text-decoration-color: #00af00\">46</span>)                  │          <span style=\"color: #00af00; text-decoration-color: #00af00\">23,598</span> │\n",
       "└──────────────────────────────────────┴─────────────────────────────┴─────────────────┘\n",
       "</pre>\n"
      ],
      "text/plain": [
       "┏━━━━━━━━━━━━━━━━━━━━━━━━━━━━━━━━━━━━━━┳━━━━━━━━━━━━━━━━━━━━━━━━━━━━━┳━━━━━━━━━━━━━━━━━┓\n",
       "┃\u001b[1m \u001b[0m\u001b[1mLayer (type)                        \u001b[0m\u001b[1m \u001b[0m┃\u001b[1m \u001b[0m\u001b[1mOutput Shape               \u001b[0m\u001b[1m \u001b[0m┃\u001b[1m \u001b[0m\u001b[1m        Param #\u001b[0m\u001b[1m \u001b[0m┃\n",
       "┡━━━━━━━━━━━━━━━━━━━━━━━━━━━━━━━━━━━━━━╇━━━━━━━━━━━━━━━━━━━━━━━━━━━━━╇━━━━━━━━━━━━━━━━━┩\n",
       "│ conv2d (\u001b[38;5;33mConv2D\u001b[0m)                      │ (\u001b[38;5;45mNone\u001b[0m, \u001b[38;5;34m30\u001b[0m, \u001b[38;5;34m30\u001b[0m, \u001b[38;5;34m32\u001b[0m)          │             \u001b[38;5;34m896\u001b[0m │\n",
       "├──────────────────────────────────────┼─────────────────────────────┼─────────────────┤\n",
       "│ batch_normalization                  │ (\u001b[38;5;45mNone\u001b[0m, \u001b[38;5;34m30\u001b[0m, \u001b[38;5;34m30\u001b[0m, \u001b[38;5;34m32\u001b[0m)          │             \u001b[38;5;34m128\u001b[0m │\n",
       "│ (\u001b[38;5;33mBatchNormalization\u001b[0m)                 │                             │                 │\n",
       "├──────────────────────────────────────┼─────────────────────────────┼─────────────────┤\n",
       "│ max_pooling2d (\u001b[38;5;33mMaxPooling2D\u001b[0m)         │ (\u001b[38;5;45mNone\u001b[0m, \u001b[38;5;34m15\u001b[0m, \u001b[38;5;34m15\u001b[0m, \u001b[38;5;34m32\u001b[0m)          │               \u001b[38;5;34m0\u001b[0m │\n",
       "├──────────────────────────────────────┼─────────────────────────────┼─────────────────┤\n",
       "│ conv2d_1 (\u001b[38;5;33mConv2D\u001b[0m)                    │ (\u001b[38;5;45mNone\u001b[0m, \u001b[38;5;34m13\u001b[0m, \u001b[38;5;34m13\u001b[0m, \u001b[38;5;34m64\u001b[0m)          │          \u001b[38;5;34m18,496\u001b[0m │\n",
       "├──────────────────────────────────────┼─────────────────────────────┼─────────────────┤\n",
       "│ batch_normalization_1                │ (\u001b[38;5;45mNone\u001b[0m, \u001b[38;5;34m13\u001b[0m, \u001b[38;5;34m13\u001b[0m, \u001b[38;5;34m64\u001b[0m)          │             \u001b[38;5;34m256\u001b[0m │\n",
       "│ (\u001b[38;5;33mBatchNormalization\u001b[0m)                 │                             │                 │\n",
       "├──────────────────────────────────────┼─────────────────────────────┼─────────────────┤\n",
       "│ max_pooling2d_1 (\u001b[38;5;33mMaxPooling2D\u001b[0m)       │ (\u001b[38;5;45mNone\u001b[0m, \u001b[38;5;34m6\u001b[0m, \u001b[38;5;34m6\u001b[0m, \u001b[38;5;34m64\u001b[0m)            │               \u001b[38;5;34m0\u001b[0m │\n",
       "├──────────────────────────────────────┼─────────────────────────────┼─────────────────┤\n",
       "│ conv2d_2 (\u001b[38;5;33mConv2D\u001b[0m)                    │ (\u001b[38;5;45mNone\u001b[0m, \u001b[38;5;34m4\u001b[0m, \u001b[38;5;34m4\u001b[0m, \u001b[38;5;34m128\u001b[0m)           │          \u001b[38;5;34m73,856\u001b[0m │\n",
       "├──────────────────────────────────────┼─────────────────────────────┼─────────────────┤\n",
       "│ batch_normalization_2                │ (\u001b[38;5;45mNone\u001b[0m, \u001b[38;5;34m4\u001b[0m, \u001b[38;5;34m4\u001b[0m, \u001b[38;5;34m128\u001b[0m)           │             \u001b[38;5;34m512\u001b[0m │\n",
       "│ (\u001b[38;5;33mBatchNormalization\u001b[0m)                 │                             │                 │\n",
       "├──────────────────────────────────────┼─────────────────────────────┼─────────────────┤\n",
       "│ max_pooling2d_2 (\u001b[38;5;33mMaxPooling2D\u001b[0m)       │ (\u001b[38;5;45mNone\u001b[0m, \u001b[38;5;34m2\u001b[0m, \u001b[38;5;34m2\u001b[0m, \u001b[38;5;34m128\u001b[0m)           │               \u001b[38;5;34m0\u001b[0m │\n",
       "├──────────────────────────────────────┼─────────────────────────────┼─────────────────┤\n",
       "│ global_average_pooling2d             │ (\u001b[38;5;45mNone\u001b[0m, \u001b[38;5;34m128\u001b[0m)                 │               \u001b[38;5;34m0\u001b[0m │\n",
       "│ (\u001b[38;5;33mGlobalAveragePooling2D\u001b[0m)             │                             │                 │\n",
       "├──────────────────────────────────────┼─────────────────────────────┼─────────────────┤\n",
       "│ dense (\u001b[38;5;33mDense\u001b[0m)                        │ (\u001b[38;5;45mNone\u001b[0m, \u001b[38;5;34m512\u001b[0m)                 │          \u001b[38;5;34m66,048\u001b[0m │\n",
       "├──────────────────────────────────────┼─────────────────────────────┼─────────────────┤\n",
       "│ dropout (\u001b[38;5;33mDropout\u001b[0m)                    │ (\u001b[38;5;45mNone\u001b[0m, \u001b[38;5;34m512\u001b[0m)                 │               \u001b[38;5;34m0\u001b[0m │\n",
       "├──────────────────────────────────────┼─────────────────────────────┼─────────────────┤\n",
       "│ dense_1 (\u001b[38;5;33mDense\u001b[0m)                      │ (\u001b[38;5;45mNone\u001b[0m, \u001b[38;5;34m46\u001b[0m)                  │          \u001b[38;5;34m23,598\u001b[0m │\n",
       "└──────────────────────────────────────┴─────────────────────────────┴─────────────────┘\n"
      ]
     },
     "metadata": {},
     "output_type": "display_data"
    },
    {
     "data": {
      "text/html": [
       "<pre style=\"white-space:pre;overflow-x:auto;line-height:normal;font-family:Menlo,'DejaVu Sans Mono',consolas,'Courier New',monospace\"><span style=\"font-weight: bold\"> Total params: </span><span style=\"color: #00af00; text-decoration-color: #00af00\">183,790</span> (717.93 KB)\n",
       "</pre>\n"
      ],
      "text/plain": [
       "\u001b[1m Total params: \u001b[0m\u001b[38;5;34m183,790\u001b[0m (717.93 KB)\n"
      ]
     },
     "metadata": {},
     "output_type": "display_data"
    },
    {
     "data": {
      "text/html": [
       "<pre style=\"white-space:pre;overflow-x:auto;line-height:normal;font-family:Menlo,'DejaVu Sans Mono',consolas,'Courier New',monospace\"><span style=\"font-weight: bold\"> Trainable params: </span><span style=\"color: #00af00; text-decoration-color: #00af00\">183,342</span> (716.18 KB)\n",
       "</pre>\n"
      ],
      "text/plain": [
       "\u001b[1m Trainable params: \u001b[0m\u001b[38;5;34m183,342\u001b[0m (716.18 KB)\n"
      ]
     },
     "metadata": {},
     "output_type": "display_data"
    },
    {
     "data": {
      "text/html": [
       "<pre style=\"white-space:pre;overflow-x:auto;line-height:normal;font-family:Menlo,'DejaVu Sans Mono',consolas,'Courier New',monospace\"><span style=\"font-weight: bold\"> Non-trainable params: </span><span style=\"color: #00af00; text-decoration-color: #00af00\">448</span> (1.75 KB)\n",
       "</pre>\n"
      ],
      "text/plain": [
       "\u001b[1m Non-trainable params: \u001b[0m\u001b[38;5;34m448\u001b[0m (1.75 KB)\n"
      ]
     },
     "metadata": {},
     "output_type": "display_data"
    }
   ],
   "source": [
    "model.summary()"
   ]
  },
  {
   "cell_type": "code",
   "execution_count": 16,
   "id": "17008cd4",
   "metadata": {
    "execution": {
     "iopub.execute_input": "2025-01-16T07:20:01.420131Z",
     "iopub.status.busy": "2025-01-16T07:20:01.419786Z",
     "iopub.status.idle": "2025-01-16T07:20:01.434496Z",
     "shell.execute_reply": "2025-01-16T07:20:01.433427Z"
    },
    "papermill": {
     "duration": 0.025551,
     "end_time": "2025-01-16T07:20:01.436231",
     "exception": false,
     "start_time": "2025-01-16T07:20:01.410680",
     "status": "completed"
    },
    "tags": []
   },
   "outputs": [],
   "source": [
    "model.compile(\n",
    "    optimizer = 'adam',\n",
    "    loss = 'sparse_categorical_crossentropy',\n",
    "    metrics = ['accuracy']\n",
    "\n",
    ")"
   ]
  },
  {
   "cell_type": "code",
   "execution_count": 17,
   "id": "81eff9b0",
   "metadata": {
    "execution": {
     "iopub.execute_input": "2025-01-16T07:20:01.454097Z",
     "iopub.status.busy": "2025-01-16T07:20:01.453783Z",
     "iopub.status.idle": "2025-01-16T07:20:02.033480Z",
     "shell.execute_reply": "2025-01-16T07:20:02.032521Z"
    },
    "papermill": {
     "duration": 0.590587,
     "end_time": "2025-01-16T07:20:02.035244",
     "exception": false,
     "start_time": "2025-01-16T07:20:01.444657",
     "status": "completed"
    },
    "tags": []
   },
   "outputs": [],
   "source": [
    "X_train, X_val, y_train, y_val = train_test_split(X_train, y_train, test_size = 0.2, random_state = 33)"
   ]
  },
  {
   "cell_type": "code",
   "execution_count": 18,
   "id": "5eb75306",
   "metadata": {
    "execution": {
     "iopub.execute_input": "2025-01-16T07:20:02.053791Z",
     "iopub.status.busy": "2025-01-16T07:20:02.053452Z",
     "iopub.status.idle": "2025-01-16T07:20:02.059385Z",
     "shell.execute_reply": "2025-01-16T07:20:02.058323Z"
    },
    "papermill": {
     "duration": 0.017095,
     "end_time": "2025-01-16T07:20:02.061053",
     "exception": false,
     "start_time": "2025-01-16T07:20:02.043958",
     "status": "completed"
    },
    "tags": []
   },
   "outputs": [
    {
     "data": {
      "text/plain": [
       "15640"
      ]
     },
     "execution_count": 18,
     "metadata": {},
     "output_type": "execute_result"
    }
   ],
   "source": [
    "len(X_val)"
   ]
  },
  {
   "cell_type": "code",
   "execution_count": 19,
   "id": "c9dbe6f1",
   "metadata": {
    "execution": {
     "iopub.execute_input": "2025-01-16T07:20:02.079318Z",
     "iopub.status.busy": "2025-01-16T07:20:02.078997Z",
     "iopub.status.idle": "2025-01-16T07:20:02.082972Z",
     "shell.execute_reply": "2025-01-16T07:20:02.082067Z"
    },
    "papermill": {
     "duration": 0.014768,
     "end_time": "2025-01-16T07:20:02.084494",
     "exception": false,
     "start_time": "2025-01-16T07:20:02.069726",
     "status": "completed"
    },
    "tags": []
   },
   "outputs": [],
   "source": [
    "epochs = 20"
   ]
  },
  {
   "cell_type": "code",
   "execution_count": 20,
   "id": "aa3e14cc",
   "metadata": {
    "execution": {
     "iopub.execute_input": "2025-01-16T07:20:02.103223Z",
     "iopub.status.busy": "2025-01-16T07:20:02.102881Z",
     "iopub.status.idle": "2025-01-16T07:22:22.984321Z",
     "shell.execute_reply": "2025-01-16T07:22:22.983478Z"
    },
    "papermill": {
     "duration": 140.892753,
     "end_time": "2025-01-16T07:22:22.986051",
     "exception": false,
     "start_time": "2025-01-16T07:20:02.093298",
     "status": "completed"
    },
    "tags": []
   },
   "outputs": [
    {
     "name": "stdout",
     "output_type": "stream",
     "text": [
      "Epoch 1/20\n",
      "\u001b[1m1955/1955\u001b[0m \u001b[32m━━━━━━━━━━━━━━━━━━━━\u001b[0m\u001b[37m\u001b[0m \u001b[1m17s\u001b[0m 5ms/step - accuracy: 0.6709 - loss: 2.0229 - val_accuracy: 0.9457 - val_loss: 0.3942\n",
      "Epoch 2/20\n",
      "\u001b[1m1955/1955\u001b[0m \u001b[32m━━━━━━━━━━━━━━━━━━━━\u001b[0m\u001b[37m\u001b[0m \u001b[1m6s\u001b[0m 3ms/step - accuracy: 0.9402 - loss: 0.4029 - val_accuracy: 0.9654 - val_loss: 0.3005\n",
      "Epoch 3/20\n",
      "\u001b[1m1955/1955\u001b[0m \u001b[32m━━━━━━━━━━━━━━━━━━━━\u001b[0m\u001b[37m\u001b[0m \u001b[1m6s\u001b[0m 3ms/step - accuracy: 0.9573 - loss: 0.3179 - val_accuracy: 0.9698 - val_loss: 0.2719\n",
      "Epoch 4/20\n",
      "\u001b[1m1955/1955\u001b[0m \u001b[32m━━━━━━━━━━━━━━━━━━━━\u001b[0m\u001b[37m\u001b[0m \u001b[1m6s\u001b[0m 3ms/step - accuracy: 0.9630 - loss: 0.2845 - val_accuracy: 0.9670 - val_loss: 0.2964\n",
      "Epoch 5/20\n",
      "\u001b[1m1955/1955\u001b[0m \u001b[32m━━━━━━━━━━━━━━━━━━━━\u001b[0m\u001b[37m\u001b[0m \u001b[1m6s\u001b[0m 3ms/step - accuracy: 0.9665 - loss: 0.2735 - val_accuracy: 0.9713 - val_loss: 0.2640\n",
      "Epoch 6/20\n",
      "\u001b[1m1955/1955\u001b[0m \u001b[32m━━━━━━━━━━━━━━━━━━━━\u001b[0m\u001b[37m\u001b[0m \u001b[1m6s\u001b[0m 3ms/step - accuracy: 0.9705 - loss: 0.2552 - val_accuracy: 0.9650 - val_loss: 0.2963\n",
      "Epoch 7/20\n",
      "\u001b[1m1955/1955\u001b[0m \u001b[32m━━━━━━━━━━━━━━━━━━━━\u001b[0m\u001b[37m\u001b[0m \u001b[1m6s\u001b[0m 3ms/step - accuracy: 0.9686 - loss: 0.2659 - val_accuracy: 0.9738 - val_loss: 0.2465\n",
      "Epoch 8/20\n",
      "\u001b[1m1955/1955\u001b[0m \u001b[32m━━━━━━━━━━━━━━━━━━━━\u001b[0m\u001b[37m\u001b[0m \u001b[1m6s\u001b[0m 3ms/step - accuracy: 0.9718 - loss: 0.2518 - val_accuracy: 0.9762 - val_loss: 0.2463\n",
      "Epoch 9/20\n",
      "\u001b[1m1955/1955\u001b[0m \u001b[32m━━━━━━━━━━━━━━━━━━━━\u001b[0m\u001b[37m\u001b[0m \u001b[1m6s\u001b[0m 3ms/step - accuracy: 0.9731 - loss: 0.2429 - val_accuracy: 0.9745 - val_loss: 0.2504\n",
      "Epoch 10/20\n",
      "\u001b[1m1955/1955\u001b[0m \u001b[32m━━━━━━━━━━━━━━━━━━━━\u001b[0m\u001b[37m\u001b[0m \u001b[1m6s\u001b[0m 3ms/step - accuracy: 0.9745 - loss: 0.2423 - val_accuracy: 0.9745 - val_loss: 0.2822\n",
      "Epoch 11/20\n",
      "\u001b[1m1955/1955\u001b[0m \u001b[32m━━━━━━━━━━━━━━━━━━━━\u001b[0m\u001b[37m\u001b[0m \u001b[1m6s\u001b[0m 3ms/step - accuracy: 0.9769 - loss: 0.2378 - val_accuracy: 0.9754 - val_loss: 0.2587\n",
      "Epoch 12/20\n",
      "\u001b[1m1955/1955\u001b[0m \u001b[32m━━━━━━━━━━━━━━━━━━━━\u001b[0m\u001b[37m\u001b[0m \u001b[1m6s\u001b[0m 3ms/step - accuracy: 0.9775 - loss: 0.2327 - val_accuracy: 0.9698 - val_loss: 0.2695\n",
      "Epoch 13/20\n",
      "\u001b[1m1955/1955\u001b[0m \u001b[32m━━━━━━━━━━━━━━━━━━━━\u001b[0m\u001b[37m\u001b[0m \u001b[1m6s\u001b[0m 3ms/step - accuracy: 0.9789 - loss: 0.2273 - val_accuracy: 0.9759 - val_loss: 0.2673\n",
      "Epoch 14/20\n",
      "\u001b[1m1955/1955\u001b[0m \u001b[32m━━━━━━━━━━━━━━━━━━━━\u001b[0m\u001b[37m\u001b[0m \u001b[1m6s\u001b[0m 3ms/step - accuracy: 0.9778 - loss: 0.2338 - val_accuracy: 0.9729 - val_loss: 0.2782\n",
      "Epoch 15/20\n",
      "\u001b[1m1955/1955\u001b[0m \u001b[32m━━━━━━━━━━━━━━━━━━━━\u001b[0m\u001b[37m\u001b[0m \u001b[1m6s\u001b[0m 3ms/step - accuracy: 0.9779 - loss: 0.2377 - val_accuracy: 0.9765 - val_loss: 0.2421\n",
      "Epoch 16/20\n",
      "\u001b[1m1955/1955\u001b[0m \u001b[32m━━━━━━━━━━━━━━━━━━━━\u001b[0m\u001b[37m\u001b[0m \u001b[1m6s\u001b[0m 3ms/step - accuracy: 0.9799 - loss: 0.2279 - val_accuracy: 0.9753 - val_loss: 0.2640\n",
      "Epoch 17/20\n",
      "\u001b[1m1955/1955\u001b[0m \u001b[32m━━━━━━━━━━━━━━━━━━━━\u001b[0m\u001b[37m\u001b[0m \u001b[1m6s\u001b[0m 3ms/step - accuracy: 0.9785 - loss: 0.2345 - val_accuracy: 0.9816 - val_loss: 0.2203\n",
      "Epoch 18/20\n",
      "\u001b[1m1955/1955\u001b[0m \u001b[32m━━━━━━━━━━━━━━━━━━━━\u001b[0m\u001b[37m\u001b[0m \u001b[1m7s\u001b[0m 3ms/step - accuracy: 0.9818 - loss: 0.2169 - val_accuracy: 0.9737 - val_loss: 0.2668\n",
      "Epoch 19/20\n",
      "\u001b[1m1955/1955\u001b[0m \u001b[32m━━━━━━━━━━━━━━━━━━━━\u001b[0m\u001b[37m\u001b[0m \u001b[1m7s\u001b[0m 3ms/step - accuracy: 0.9827 - loss: 0.2116 - val_accuracy: 0.9758 - val_loss: 0.2784\n",
      "Epoch 20/20\n",
      "\u001b[1m1955/1955\u001b[0m \u001b[32m━━━━━━━━━━━━━━━━━━━━\u001b[0m\u001b[37m\u001b[0m \u001b[1m6s\u001b[0m 3ms/step - accuracy: 0.9815 - loss: 0.2245 - val_accuracy: 0.9785 - val_loss: 0.2545\n"
     ]
    }
   ],
   "source": [
    "history = model.fit(X_train, y_train,batch_size = 32, epochs = epochs, validation_data = (X_val, y_val)) \n",
    "\n",
    "# history = model.fit(\n",
    "#     train_generator, \n",
    "#     epochs=20, \n",
    "#     validation_data=val_generator, \n",
    "#     steps_per_epoch=len(X_train) // 32,  # Number of batches per epoch\n",
    "#     validation_steps=len(X_test) // 32  # Number of validation batches per epoch\n",
    "# )\n"
   ]
  },
  {
   "cell_type": "code",
   "execution_count": 21,
   "id": "686cd3aa",
   "metadata": {
    "execution": {
     "iopub.execute_input": "2025-01-16T07:22:23.294268Z",
     "iopub.status.busy": "2025-01-16T07:22:23.293878Z",
     "iopub.status.idle": "2025-01-16T07:22:23.424162Z",
     "shell.execute_reply": "2025-01-16T07:22:23.422998Z"
    },
    "papermill": {
     "duration": 0.311988,
     "end_time": "2025-01-16T07:22:23.425968",
     "exception": false,
     "start_time": "2025-01-16T07:22:23.113980",
     "status": "completed"
    },
    "tags": []
   },
   "outputs": [],
   "source": [
    "\n",
    "combined = list(zip(X_test, y_test))\n",
    "\n",
    "np.random.shuffle(combined)\n",
    "\n",
    "X_test, y_test = zip(*combined)\n",
    "\n",
    "X_test = np.array(X_test)\n",
    "y_test = np.array(y_test)\n"
   ]
  },
  {
   "cell_type": "code",
   "execution_count": 22,
   "id": "89544466",
   "metadata": {
    "execution": {
     "iopub.execute_input": "2025-01-16T07:22:23.676368Z",
     "iopub.status.busy": "2025-01-16T07:22:23.675968Z",
     "iopub.status.idle": "2025-01-16T07:22:26.189857Z",
     "shell.execute_reply": "2025-01-16T07:22:26.189004Z"
    },
    "papermill": {
     "duration": 2.645148,
     "end_time": "2025-01-16T07:22:26.191605",
     "exception": false,
     "start_time": "2025-01-16T07:22:23.546457",
     "status": "completed"
    },
    "tags": []
   },
   "outputs": [
    {
     "name": "stdout",
     "output_type": "stream",
     "text": [
      "\u001b[1m432/432\u001b[0m \u001b[32m━━━━━━━━━━━━━━━━━━━━\u001b[0m\u001b[37m\u001b[0m \u001b[1m2s\u001b[0m 3ms/step\n"
     ]
    }
   ],
   "source": [
    "y_pred = model.predict(X_test)"
   ]
  },
  {
   "cell_type": "code",
   "execution_count": 23,
   "id": "8ecace0b",
   "metadata": {
    "execution": {
     "iopub.execute_input": "2025-01-16T07:22:26.449060Z",
     "iopub.status.busy": "2025-01-16T07:22:26.448750Z",
     "iopub.status.idle": "2025-01-16T07:22:26.453611Z",
     "shell.execute_reply": "2025-01-16T07:22:26.452864Z"
    },
    "papermill": {
     "duration": 0.13508,
     "end_time": "2025-01-16T07:22:26.455041",
     "exception": false,
     "start_time": "2025-01-16T07:22:26.319961",
     "status": "completed"
    },
    "tags": []
   },
   "outputs": [],
   "source": [
    "y_pred = np.argmax(y_pred, axis = 1)"
   ]
  },
  {
   "cell_type": "code",
   "execution_count": 24,
   "id": "fb793147",
   "metadata": {
    "execution": {
     "iopub.execute_input": "2025-01-16T07:22:26.709973Z",
     "iopub.status.busy": "2025-01-16T07:22:26.709625Z",
     "iopub.status.idle": "2025-01-16T07:22:26.737242Z",
     "shell.execute_reply": "2025-01-16T07:22:26.735834Z"
    },
    "papermill": {
     "duration": 0.158974,
     "end_time": "2025-01-16T07:22:26.738965",
     "exception": false,
     "start_time": "2025-01-16T07:22:26.579991",
     "status": "completed"
    },
    "tags": []
   },
   "outputs": [
    {
     "name": "stdout",
     "output_type": "stream",
     "text": [
      "              precision    recall  f1-score   support\n",
      "\n",
      "           0       0.99      0.99      0.99       300\n",
      "           1       0.99      0.97      0.98       300\n",
      "           2       0.96      0.99      0.98       300\n",
      "           3       0.95      0.99      0.97       300\n",
      "           4       0.97      0.97      0.97       300\n",
      "           5       0.98      1.00      0.99       300\n",
      "           6       0.95      0.99      0.97       300\n",
      "           7       0.96      0.97      0.96       300\n",
      "           8       0.98      0.96      0.97       300\n",
      "           9       1.00      0.93      0.96       300\n",
      "          10       1.00      0.97      0.98       300\n",
      "          11       0.98      0.98      0.98       300\n",
      "          12       0.97      0.98      0.98       300\n",
      "          13       0.98      0.99      0.99       300\n",
      "          14       0.98      0.94      0.96       300\n",
      "          15       0.99      0.97      0.98       300\n",
      "          16       0.98      0.99      0.99       300\n",
      "          17       0.96      0.96      0.96       300\n",
      "          18       1.00      0.97      0.98       300\n",
      "          19       1.00      0.99      0.99       300\n",
      "          20       0.90      0.98      0.93       300\n",
      "          21       1.00      0.99      1.00       300\n",
      "          22       1.00      0.99      0.99       300\n",
      "          23       0.99      0.98      0.99       300\n",
      "          24       0.99      0.97      0.98       300\n",
      "          25       0.97      0.98      0.98       300\n",
      "          26       1.00      0.96      0.98       300\n",
      "          27       0.97      0.98      0.98       300\n",
      "          28       1.00      0.92      0.96       300\n",
      "          29       0.97      1.00      0.98       300\n",
      "          30       0.94      0.97      0.95       300\n",
      "          31       1.00      0.95      0.98       300\n",
      "          32       0.98      0.97      0.98       300\n",
      "          33       0.98      0.94      0.96       300\n",
      "          34       0.96      0.99      0.98       300\n",
      "          35       0.99      0.99      0.99       300\n",
      "          36       0.99      1.00      0.99       300\n",
      "          37       0.99      0.99      0.99       300\n",
      "          38       0.96      1.00      0.98       300\n",
      "          39       0.99      0.98      0.99       300\n",
      "          40       1.00      0.99      0.99       300\n",
      "          41       0.99      0.99      0.99       300\n",
      "          42       0.95      0.98      0.97       300\n",
      "          43       0.98      1.00      0.99       300\n",
      "          44       0.98      0.99      0.99       300\n",
      "          45       0.98      0.99      0.98       300\n",
      "\n",
      "    accuracy                           0.98     13800\n",
      "   macro avg       0.98      0.98      0.98     13800\n",
      "weighted avg       0.98      0.98      0.98     13800\n",
      "\n"
     ]
    }
   ],
   "source": [
    "print(classification_report(y_test, y_pred))"
   ]
  },
  {
   "cell_type": "code",
   "execution_count": 25,
   "id": "542dd3d9",
   "metadata": {
    "execution": {
     "iopub.execute_input": "2025-01-16T07:22:26.996906Z",
     "iopub.status.busy": "2025-01-16T07:22:26.996565Z",
     "iopub.status.idle": "2025-01-16T07:22:27.285555Z",
     "shell.execute_reply": "2025-01-16T07:22:27.284652Z"
    },
    "papermill": {
     "duration": 0.419693,
     "end_time": "2025-01-16T07:22:27.286941",
     "exception": false,
     "start_time": "2025-01-16T07:22:26.867248",
     "status": "completed"
    },
    "tags": []
   },
   "outputs": [
    {
     "data": {
      "text/plain": [
       "<matplotlib.image.AxesImage at 0x78940c914070>"
      ]
     },
     "execution_count": 25,
     "metadata": {},
     "output_type": "execute_result"
    },
    {
     "data": {
      "image/png": "[encoded data removed]",
      "text/plain": [
       "<Figure size 640x480 with 1 Axes>"
      ]
     },
     "metadata": {},
     "output_type": "display_data"
    }
   ],
   "source": [
    "plt.imshow(X_test[0])"
   ]
  },
  {
   "cell_type": "code",
   "execution_count": 26,
   "id": "2dd85ed5",
   "metadata": {
    "execution": {
     "iopub.execute_input": "2025-01-16T07:22:27.531162Z",
     "iopub.status.busy": "2025-01-16T07:22:27.530810Z",
     "iopub.status.idle": "2025-01-16T07:22:27.537494Z",
     "shell.execute_reply": "2025-01-16T07:22:27.536668Z"
    },
    "papermill": {
     "duration": 0.130503,
     "end_time": "2025-01-16T07:22:27.538883",
     "exception": false,
     "start_time": "2025-01-16T07:22:27.408380",
     "status": "completed"
    },
    "tags": []
   },
   "outputs": [
    {
     "data": {
      "text/plain": [
       "0.9782608695652174"
      ]
     },
     "execution_count": 26,
     "metadata": {},
     "output_type": "execute_result"
    }
   ],
   "source": [
    "accuracy_score(y_test, y_pred)"
   ]
  },
  {
   "cell_type": "code",
   "execution_count": 27,
   "id": "08626d84",
   "metadata": {
    "execution": {
     "iopub.execute_input": "2025-01-16T07:22:27.788853Z",
     "iopub.status.busy": "2025-01-16T07:22:27.788484Z",
     "iopub.status.idle": "2025-01-16T07:22:27.796186Z",
     "shell.execute_reply": "2025-01-16T07:22:27.795048Z"
    },
    "papermill": {
     "duration": 0.135012,
     "end_time": "2025-01-16T07:22:27.797674",
     "exception": false,
     "start_time": "2025-01-16T07:22:27.662662",
     "status": "completed"
    },
    "tags": []
   },
   "outputs": [
    {
     "data": {
      "text/plain": [
       "(array([   22,    75,   163,   269,   423,   500,   510,   562,   679,\n",
       "          690,   694,   755,   781,   793,   843,   845,   846,   869,\n",
       "          894,   932,   962,   978,   981,   984,  1038,  1083,  1094,\n",
       "         1232,  1249,  1294,  1393,  1412,  1461,  1485,  1501,  1569,\n",
       "         1611,  1612,  1735,  1769,  1855,  1907,  1983,  1996,  1997,\n",
       "         2026,  2089,  2149,  2286,  2359,  2402,  2436,  2469,  2472,\n",
       "         2552,  2558,  2560,  2614,  2634,  2668,  2690,  2694,  2723,\n",
       "         2750,  2826,  2829,  2872,  2984,  2988,  3056,  3081,  3196,\n",
       "         3232,  3257,  3280,  3302,  3376,  3398,  3436,  3442,  3452,\n",
       "         3482,  3530,  3540,  3563,  3664,  3675,  3750,  3780,  3860,\n",
       "         3917,  3975,  4043,  4063,  4083,  4135,  4153,  4198,  4208,\n",
       "         4242,  4271,  4457,  4504,  4560,  4590,  4599,  4688,  4744,\n",
       "         4752,  4775,  4865,  4907,  4937,  5088,  5184,  5200,  5218,\n",
       "         5248,  5254,  5315,  5438,  5522,  5565,  5576,  5607,  5641,\n",
       "         5655,  5734,  5741,  5758,  5846,  5968,  6010,  6042,  6051,\n",
       "         6078,  6121,  6196,  6296,  6387,  6409,  6413,  6436,  6442,\n",
       "         6566,  6606,  6723,  6747,  6766,  6778,  6908,  6990,  7034,\n",
       "         7093,  7131,  7241,  7271,  7272,  7401,  7466,  7504,  7547,\n",
       "         7556,  7559,  7576,  7642,  7644,  7648,  7661,  7705,  7707,\n",
       "         7741,  7760,  7848,  8009,  8093,  8129,  8154,  8255,  8292,\n",
       "         8342,  8344,  8386,  8413,  8690,  8780,  8786,  8798,  8826,\n",
       "         8833,  8853,  8901,  8943,  9028,  9122,  9158,  9165,  9202,\n",
       "         9228,  9244,  9332,  9418,  9562,  9568,  9660,  9681,  9739,\n",
       "         9851,  9882,  9993, 10002, 10130, 10159, 10262, 10263, 10322,\n",
       "        10325, 10329, 10416, 10471, 10491, 10520, 10635, 10668, 10704,\n",
       "        10734, 10768, 10802, 10817, 10872, 10893, 10899, 10909, 10930,\n",
       "        11057, 11066, 11216, 11247, 11324, 11344, 11350, 11378, 11493,\n",
       "        11505, 11517, 11526, 11533, 11571, 11597, 11636, 11645, 11678,\n",
       "        11695, 11723, 11744, 11766, 11777, 11807, 11810, 11860, 11903,\n",
       "        11920, 11983, 12079, 12183, 12194, 12292, 12324, 12396, 12445,\n",
       "        12464, 12522, 12558, 12577, 12644, 12670, 12674, 12713, 12758,\n",
       "        12885, 12892, 13029, 13037, 13057, 13089, 13096, 13156, 13219,\n",
       "        13290, 13342, 13390, 13510, 13514, 13549, 13559, 13636, 13678,\n",
       "        13705, 13753, 13790]),)"
      ]
     },
     "execution_count": 27,
     "metadata": {},
     "output_type": "execute_result"
    }
   ],
   "source": [
    "np.where(y_test == 19)"
   ]
  },
  {
   "cell_type": "code",
   "execution_count": 28,
   "id": "8e1aea87",
   "metadata": {
    "execution": {
     "iopub.execute_input": "2025-01-16T07:22:28.101494Z",
     "iopub.status.busy": "2025-01-16T07:22:28.101137Z",
     "iopub.status.idle": "2025-01-16T07:22:28.110805Z",
     "shell.execute_reply": "2025-01-16T07:22:28.109754Z"
    },
    "papermill": {
     "duration": 0.189579,
     "end_time": "2025-01-16T07:22:28.112531",
     "exception": false,
     "start_time": "2025-01-16T07:22:27.922952",
     "status": "completed"
    },
    "tags": []
   },
   "outputs": [
    {
     "data": {
      "text/plain": [
       "<Figure size 1200x600 with 0 Axes>"
      ]
     },
     "execution_count": 28,
     "metadata": {},
     "output_type": "execute_result"
    },
    {
     "data": {
      "text/plain": [
       "<Figure size 1200x600 with 0 Axes>"
      ]
     },
     "metadata": {},
     "output_type": "display_data"
    }
   ],
   "source": [
    "# Visualize training history\n",
    "plt.figure(figsize=(12, 6))"
   ]
  },
  {
   "cell_type": "code",
   "execution_count": 29,
   "id": "3bcf4de3",
   "metadata": {
    "execution": {
     "iopub.execute_input": "2025-01-16T07:22:28.380819Z",
     "iopub.status.busy": "2025-01-16T07:22:28.380491Z",
     "iopub.status.idle": "2025-01-16T07:22:28.573802Z",
     "shell.execute_reply": "2025-01-16T07:22:28.572799Z"
    },
    "papermill": {
     "duration": 0.32494,
     "end_time": "2025-01-16T07:22:28.575212",
     "exception": false,
     "start_time": "2025-01-16T07:22:28.250272",
     "status": "completed"
    },
    "tags": []
   },
   "outputs": [
    {
     "data": {
      "text/plain": [
       "[<matplotlib.lines.Line2D at 0x7893fbb93250>]"
      ]
     },
     "execution_count": 29,
     "metadata": {},
     "output_type": "execute_result"
    },
    {
     "data": {
      "image/png": "[encoded data removed]",
      "text/plain": [
       "<Figure size 640x480 with 1 Axes>"
      ]
     },
     "metadata": {},
     "output_type": "display_data"
    }
   ],
   "source": [
    "plt.plot(range(0, epochs), history.history['accuracy'])\n",
    "plt.plot(range(0, epochs), history.history['val_accuracy'])"
   ]
  },
  {
   "cell_type": "code",
   "execution_count": 30,
   "id": "80afbca3",
   "metadata": {
    "execution": {
     "iopub.execute_input": "2025-01-16T07:22:28.830436Z",
     "iopub.status.busy": "2025-01-16T07:22:28.830091Z",
     "iopub.status.idle": "2025-01-16T07:22:29.005322Z",
     "shell.execute_reply": "2025-01-16T07:22:29.004413Z"
    },
    "papermill": {
     "duration": 0.303809,
     "end_time": "2025-01-16T07:22:29.006874",
     "exception": false,
     "start_time": "2025-01-16T07:22:28.703065",
     "status": "completed"
    },
    "tags": []
   },
   "outputs": [
    {
     "data": {
      "text/plain": [
       "[<matplotlib.lines.Line2D at 0x7893fba32a70>]"
      ]
     },
     "execution_count": 30,
     "metadata": {},
     "output_type": "execute_result"
    },
    {
     "data": {
      "image/png": "[encoded data removed]",
      "text/plain": [
       "<Figure size 640x480 with 1 Axes>"
      ]
     },
     "metadata": {},
     "output_type": "display_data"
    }
   ],
   "source": [
    "plt.plot(range(0, epochs), history.history['loss'])\n",
    "plt.plot(range(0, epochs), history.history['val_loss'])"
   ]
  },
  {
   "cell_type": "code",
   "execution_count": 31,
   "id": "2b857c0a",
   "metadata": {
    "execution": {
     "iopub.execute_input": "2025-01-16T07:22:29.268865Z",
     "iopub.status.busy": "2025-01-16T07:22:29.268499Z",
     "iopub.status.idle": "2025-01-16T07:22:29.716912Z",
     "shell.execute_reply": "2025-01-16T07:22:29.715771Z"
    },
    "papermill": {
     "duration": 0.581386,
     "end_time": "2025-01-16T07:22:29.718782",
     "exception": false,
     "start_time": "2025-01-16T07:22:29.137396",
     "status": "completed"
    },
    "tags": []
   },
   "outputs": [
    {
     "data": {
      "image/png": "[encoded data removed]",
      "text/plain": [
       "<Figure size 640x480 with 2 Axes>"
      ]
     },
     "metadata": {},
     "output_type": "display_data"
    }
   ],
   "source": [
    "# Accuracy plot\n",
    "plt.subplot(1, 2, 1)\n",
    "plt.plot(history.history['accuracy'], label='Train Accuracy')\n",
    "plt.plot(history.history['val_accuracy'], label='Validation Accuracy')\n",
    "plt.title('Accuracy over Epochs')\n",
    "plt.xlabel('Epochs')\n",
    "plt.ylabel('Accuracy')\n",
    "plt.legend()\n",
    "\n",
    "# Loss plot\n",
    "plt.subplot(1, 2, 2)\n",
    "plt.plot(history.history['loss'], label='Train Loss')\n",
    "plt.plot(history.history['val_loss'], label='Validation Loss')\n",
    "plt.title('Loss over Epochs')\n",
    "plt.xlabel('Epochs')\n",
    "plt.ylabel('Loss')\n",
    "plt.legend()\n",
    "\n",
    "plt.show()\n"
   ]
  },
  {
   "cell_type": "code",
   "execution_count": 32,
   "id": "854906fa",
   "metadata": {
    "execution": {
     "iopub.execute_input": "2025-01-16T07:22:29.981970Z",
     "iopub.status.busy": "2025-01-16T07:22:29.981576Z",
     "iopub.status.idle": "2025-01-16T07:22:30.052039Z",
     "shell.execute_reply": "2025-01-16T07:22:30.051166Z"
    },
    "papermill": {
     "duration": 0.203259,
     "end_time": "2025-01-16T07:22:30.053907",
     "exception": false,
     "start_time": "2025-01-16T07:22:29.850648",
     "status": "completed"
    },
    "tags": []
   },
   "outputs": [],
   "source": [
    "model.save('ocr_model_46.h5')"
   ]
  },
  {
   "cell_type": "code",
   "execution_count": 33,
   "id": "3876158f",
   "metadata": {
    "execution": {
     "iopub.execute_input": "2025-01-16T07:22:30.314059Z",
     "iopub.status.busy": "2025-01-16T07:22:30.313727Z",
     "iopub.status.idle": "2025-01-16T07:22:30.318488Z",
     "shell.execute_reply": "2025-01-16T07:22:30.317558Z"
    },
    "papermill": {
     "duration": 0.13519,
     "end_time": "2025-01-16T07:22:30.319882",
     "exception": false,
     "start_time": "2025-01-16T07:22:30.184692",
     "status": "completed"
    },
    "tags": []
   },
   "outputs": [
    {
     "name": "stdout",
     "output_type": "stream",
     "text": [
      "['__notebook__.ipynb', 'ocr_model_46.h5']\n"
     ]
    }
   ],
   "source": [
    "import os\n",
    "\n",
    "# List files in the working directory\n",
    "print(os.listdir('/kaggle/working'))\n"
   ]
  },
  {
   "cell_type": "code",
   "execution_count": 34,
   "id": "c8968de9",
   "metadata": {
    "execution": {
     "iopub.execute_input": "2025-01-16T07:22:30.576123Z",
     "iopub.status.busy": "2025-01-16T07:22:30.575767Z",
     "iopub.status.idle": "2025-01-16T07:22:30.581379Z",
     "shell.execute_reply": "2025-01-16T07:22:30.580397Z"
    },
    "papermill": {
     "duration": 0.135102,
     "end_time": "2025-01-16T07:22:30.582948",
     "exception": false,
     "start_time": "2025-01-16T07:22:30.447846",
     "status": "completed"
    },
    "tags": []
   },
   "outputs": [
    {
     "data": {
      "text/html": [
       "Path (<tt>ocr_model_with_augmentation.h5</tt>) doesn't exist. It may still be in the process of being generated, or you may have the incorrect path."
      ],
      "text/plain": [
       "/kaggle/working/ocr_model_with_augmentation.h5"
      ]
     },
     "execution_count": 34,
     "metadata": {},
     "output_type": "execute_result"
    }
   ],
   "source": [
    "from IPython.display import FileLink\n",
    "\n",
    "# Create a direct download link\n",
    "FileLink('ocr_model_with_augmentation.h5')\n"
   ]
  },
  {
   "cell_type": "code",
   "execution_count": 35,
   "id": "6081111c",
   "metadata": {
    "execution": {
     "iopub.execute_input": "2025-01-16T07:22:30.842152Z",
     "iopub.status.busy": "2025-01-16T07:22:30.841829Z",
     "iopub.status.idle": "2025-01-16T07:22:30.845308Z",
     "shell.execute_reply": "2025-01-16T07:22:30.844529Z"
    },
    "papermill": {
     "duration": 0.135998,
     "end_time": "2025-01-16T07:22:30.846736",
     "exception": false,
     "start_time": "2025-01-16T07:22:30.710738",
     "status": "completed"
    },
    "tags": []
   },
   "outputs": [],
   "source": [
    "# from tensorflow.keras.models import load_model\n",
    "\n",
    "# # Load the downloaded model\n",
    "# model = load_model('/kaggle/input/ocr_model/tensorflow2/default/1/ocr_model.h5')\n"
   ]
  },
  {
   "cell_type": "code",
   "execution_count": null,
   "id": "22fd3fef",
   "metadata": {
    "papermill": {
     "duration": 0.130501,
     "end_time": "2025-01-16T07:22:31.109844",
     "exception": false,
     "start_time": "2025-01-16T07:22:30.979343",
     "status": "completed"
    },
    "tags": []
   },
   "outputs": [],
   "source": [
    "\n"
   ]
  },
  {
   "cell_type": "code",
   "execution_count": 36,
   "id": "d7077ebb",
   "metadata": {
    "execution": {
     "iopub.execute_input": "2025-01-16T07:22:31.373009Z",
     "iopub.status.busy": "2025-01-16T07:22:31.372687Z",
     "iopub.status.idle": "2025-01-16T07:32:22.360566Z",
     "shell.execute_reply": "2025-01-16T07:32:22.359640Z"
    },
    "papermill": {
     "duration": 591.122058,
     "end_time": "2025-01-16T07:32:22.362191",
     "exception": false,
     "start_time": "2025-01-16T07:22:31.240133",
     "status": "completed"
    },
    "tags": []
   },
   "outputs": [
    {
     "name": "stderr",
     "output_type": "stream",
     "text": [
      "/usr/local/lib/python3.10/dist-packages/keras/src/layers/convolutional/base_conv.py:107: UserWarning: Do not pass an `input_shape`/`input_dim` argument to a layer. When using Sequential models, prefer using an `Input(shape)` object as the first layer in the model instead.\n",
      "  super().__init__(activity_regularizer=activity_regularizer, **kwargs)\n"
     ]
    },
    {
     "name": "stdout",
     "output_type": "stream",
     "text": [
      "Epoch 1/20\n"
     ]
    },
    {
     "name": "stderr",
     "output_type": "stream",
     "text": [
      "/usr/local/lib/python3.10/dist-packages/keras/src/trainers/data_adapters/py_dataset_adapter.py:121: UserWarning: Your `PyDataset` class should call `super().__init__(**kwargs)` in its constructor. `**kwargs` can include `workers`, `use_multiprocessing`, `max_queue_size`. Do not pass these arguments to `fit()`, as they will be ignored.\n",
      "  self._warn_if_super_not_called()\n"
     ]
    },
    {
     "name": "stdout",
     "output_type": "stream",
     "text": [
      "\u001b[1m1955/1955\u001b[0m \u001b[32m━━━━━━━━━━━━━━━━━━━━\u001b[0m\u001b[37m\u001b[0m \u001b[1m56s\u001b[0m 26ms/step - accuracy: 0.2917 - loss: 3.3522 - val_accuracy: 0.8109 - val_loss: 0.8836\n",
      "Epoch 2/20\n"
     ]
    },
    {
     "name": "stderr",
     "output_type": "stream",
     "text": [
      "/usr/lib/python3.10/contextlib.py:153: UserWarning: Your input ran out of data; interrupting training. Make sure that your dataset or generator can generate at least `steps_per_epoch * epochs` batches. You may need to use the `.repeat()` function when building your dataset.\n",
      "  self.gen.throw(typ, value, traceback)\n"
     ]
    },
    {
     "name": "stdout",
     "output_type": "stream",
     "text": [
      "\u001b[1m1955/1955\u001b[0m \u001b[32m━━━━━━━━━━━━━━━━━━━━\u001b[0m\u001b[37m\u001b[0m \u001b[1m1s\u001b[0m 403us/step - accuracy: 0.0000e+00 - loss: 0.0000e+00 - val_accuracy: 0.8109 - val_loss: 0.8836\n",
      "Epoch 3/20\n",
      "\u001b[1m1955/1955\u001b[0m \u001b[32m━━━━━━━━━━━━━━━━━━━━\u001b[0m\u001b[37m\u001b[0m \u001b[1m48s\u001b[0m 24ms/step - accuracy: 0.6659 - loss: 1.3761 - val_accuracy: 0.8824 - val_loss: 0.6449\n",
      "Epoch 4/20\n",
      "\u001b[1m1955/1955\u001b[0m \u001b[32m━━━━━━━━━━━━━━━━━━━━\u001b[0m\u001b[37m\u001b[0m \u001b[1m1s\u001b[0m 395us/step - accuracy: 0.0000e+00 - loss: 0.0000e+00 - val_accuracy: 0.8824 - val_loss: 0.6449\n",
      "Epoch 5/20\n",
      "\u001b[1m1955/1955\u001b[0m \u001b[32m━━━━━━━━━━━━━━━━━━━━\u001b[0m\u001b[37m\u001b[0m \u001b[1m49s\u001b[0m 25ms/step - accuracy: 0.7204 - loss: 1.1853 - val_accuracy: 0.8641 - val_loss: 0.6871\n",
      "Epoch 6/20\n",
      "\u001b[1m1955/1955\u001b[0m \u001b[32m━━━━━━━━━━━━━━━━━━━━\u001b[0m\u001b[37m\u001b[0m \u001b[1m1s\u001b[0m 414us/step - accuracy: 0.0000e+00 - loss: 0.0000e+00 - val_accuracy: 0.8641 - val_loss: 0.6871\n",
      "Epoch 7/20\n",
      "\u001b[1m1955/1955\u001b[0m \u001b[32m━━━━━━━━━━━━━━━━━━━━\u001b[0m\u001b[37m\u001b[0m \u001b[1m49s\u001b[0m 25ms/step - accuracy: 0.7451 - loss: 1.0894 - val_accuracy: 0.8599 - val_loss: 0.7097\n",
      "Epoch 8/20\n",
      "\u001b[1m1955/1955\u001b[0m \u001b[32m━━━━━━━━━━━━━━━━━━━━\u001b[0m\u001b[37m\u001b[0m \u001b[1m1s\u001b[0m 401us/step - accuracy: 0.0000e+00 - loss: 0.0000e+00 - val_accuracy: 0.8599 - val_loss: 0.7097\n",
      "Epoch 9/20\n",
      "\u001b[1m1955/1955\u001b[0m \u001b[32m━━━━━━━━━━━━━━━━━━━━\u001b[0m\u001b[37m\u001b[0m \u001b[1m47s\u001b[0m 24ms/step - accuracy: 0.7616 - loss: 1.0331 - val_accuracy: 0.8985 - val_loss: 0.5717\n",
      "Epoch 10/20\n",
      "\u001b[1m1955/1955\u001b[0m \u001b[32m━━━━━━━━━━━━━━━━━━━━\u001b[0m\u001b[37m\u001b[0m \u001b[1m1s\u001b[0m 409us/step - accuracy: 0.0000e+00 - loss: 0.0000e+00 - val_accuracy: 0.8985 - val_loss: 0.5717\n",
      "Epoch 11/20\n",
      "\u001b[1m1955/1955\u001b[0m \u001b[32m━━━━━━━━━━━━━━━━━━━━\u001b[0m\u001b[37m\u001b[0m \u001b[1m47s\u001b[0m 24ms/step - accuracy: 0.7717 - loss: 0.9981 - val_accuracy: 0.9176 - val_loss: 0.5016\n",
      "Epoch 12/20\n",
      "\u001b[1m1955/1955\u001b[0m \u001b[32m━━━━━━━━━━━━━━━━━━━━\u001b[0m\u001b[37m\u001b[0m \u001b[1m1s\u001b[0m 394us/step - accuracy: 0.0000e+00 - loss: 0.0000e+00 - val_accuracy: 0.9176 - val_loss: 0.5016\n",
      "Epoch 13/20\n",
      "\u001b[1m1955/1955\u001b[0m \u001b[32m━━━━━━━━━━━━━━━━━━━━\u001b[0m\u001b[37m\u001b[0m \u001b[1m47s\u001b[0m 24ms/step - accuracy: 0.7780 - loss: 0.9878 - val_accuracy: 0.9084 - val_loss: 0.5573\n",
      "Epoch 14/20\n",
      "\u001b[1m1955/1955\u001b[0m \u001b[32m━━━━━━━━━━━━━━━━━━━━\u001b[0m\u001b[37m\u001b[0m \u001b[1m1s\u001b[0m 403us/step - accuracy: 0.0000e+00 - loss: 0.0000e+00 - val_accuracy: 0.9084 - val_loss: 0.5573\n",
      "Epoch 15/20\n",
      "\u001b[1m1955/1955\u001b[0m \u001b[32m━━━━━━━━━━━━━━━━━━━━\u001b[0m\u001b[37m\u001b[0m \u001b[1m47s\u001b[0m 24ms/step - accuracy: 0.7825 - loss: 0.9640 - val_accuracy: 0.9276 - val_loss: 0.4935\n",
      "Epoch 16/20\n",
      "\u001b[1m1955/1955\u001b[0m \u001b[32m━━━━━━━━━━━━━━━━━━━━\u001b[0m\u001b[37m\u001b[0m \u001b[1m1s\u001b[0m 384us/step - accuracy: 0.0000e+00 - loss: 0.0000e+00 - val_accuracy: 0.9276 - val_loss: 0.4935\n",
      "Epoch 17/20\n",
      "\u001b[1m1955/1955\u001b[0m \u001b[32m━━━━━━━━━━━━━━━━━━━━\u001b[0m\u001b[37m\u001b[0m \u001b[1m46s\u001b[0m 24ms/step - accuracy: 0.7925 - loss: 0.9409 - val_accuracy: 0.9216 - val_loss: 0.5144\n",
      "Epoch 18/20\n",
      "\u001b[1m1955/1955\u001b[0m \u001b[32m━━━━━━━━━━━━━━━━━━━━\u001b[0m\u001b[37m\u001b[0m \u001b[1m1s\u001b[0m 390us/step - accuracy: 0.0000e+00 - loss: 0.0000e+00 - val_accuracy: 0.9216 - val_loss: 0.5144\n",
      "Epoch 19/20\n",
      "\u001b[1m1955/1955\u001b[0m \u001b[32m━━━━━━━━━━━━━━━━━━━━\u001b[0m\u001b[37m\u001b[0m \u001b[1m46s\u001b[0m 23ms/step - accuracy: 0.7916 - loss: 0.9317 - val_accuracy: 0.9274 - val_loss: 0.4934\n",
      "Epoch 20/20\n",
      "\u001b[1m1955/1955\u001b[0m \u001b[32m━━━━━━━━━━━━━━━━━━━━\u001b[0m\u001b[37m\u001b[0m \u001b[1m1s\u001b[0m 383us/step - accuracy: 0.0000e+00 - loss: 0.0000e+00 - val_accuracy: 0.9274 - val_loss: 0.4934\n",
      "\u001b[1m432/432\u001b[0m \u001b[32m━━━━━━━━━━━━━━━━━━━━\u001b[0m\u001b[37m\u001b[0m \u001b[1m1s\u001b[0m 2ms/step\n",
      "              precision    recall  f1-score   support\n",
      "\n",
      "           0       1.00      0.89      0.94       300\n",
      "           1       0.90      0.94      0.92       300\n",
      "           2       0.88      0.96      0.92       300\n",
      "           3       0.88      0.83      0.85       300\n",
      "           4       0.85      0.92      0.88       300\n",
      "           5       0.99      0.98      0.98       300\n",
      "           6       0.97      0.84      0.90       300\n",
      "           7       0.81      0.94      0.87       300\n",
      "           8       0.86      0.84      0.85       300\n",
      "           9       0.96      0.90      0.93       300\n",
      "          10       0.95      0.95      0.95       300\n",
      "          11       0.85      0.96      0.90       300\n",
      "          12       0.90      0.99      0.94       300\n",
      "          13       0.99      0.95      0.97       300\n",
      "          14       0.87      0.95      0.91       300\n",
      "          15       0.87      0.92      0.90       300\n",
      "          16       0.88      0.97      0.93       300\n",
      "          17       0.95      0.71      0.81       300\n",
      "          18       0.99      0.90      0.94       300\n",
      "          19       0.97      0.97      0.97       300\n",
      "          20       0.81      0.94      0.87       300\n",
      "          21       0.98      0.97      0.97       300\n",
      "          22       0.98      0.98      0.98       300\n",
      "          23       0.94      0.98      0.96       300\n",
      "          24       0.91      0.92      0.91       300\n",
      "          25       0.89      0.88      0.88       300\n",
      "          26       0.96      0.96      0.96       300\n",
      "          27       0.97      0.91      0.94       300\n",
      "          28       0.96      0.91      0.94       300\n",
      "          29       0.99      0.98      0.99       300\n",
      "          30       0.91      0.96      0.93       300\n",
      "          31       1.00      0.84      0.91       300\n",
      "          32       0.96      0.94      0.95       300\n",
      "          33       0.94      0.89      0.91       300\n",
      "          34       0.93      0.90      0.91       300\n",
      "          35       0.99      0.94      0.96       300\n",
      "          36       1.00      0.95      0.98       300\n",
      "          37       0.94      0.98      0.96       300\n",
      "          38       0.93      0.96      0.94       300\n",
      "          39       0.89      0.96      0.92       300\n",
      "          40       0.93      0.99      0.96       300\n",
      "          41       0.96      0.98      0.97       300\n",
      "          42       0.98      0.85      0.91       300\n",
      "          43       0.97      0.97      0.97       300\n",
      "          44       0.94      0.99      0.97       300\n",
      "          45       0.93      0.96      0.94       300\n",
      "\n",
      "    accuracy                           0.93     13800\n",
      "   macro avg       0.93      0.93      0.93     13800\n",
      "weighted avg       0.93      0.93      0.93     13800\n",
      "\n",
      "Accuracy:  0.9304347826086956\n"
     ]
    },
    {
     "data": {
      "image/png": "[encoded data removed]",
      "text/plain": [
       "<Figure size 640x480 with 1 Axes>"
      ]
     },
     "metadata": {},
     "output_type": "display_data"
    }
   ],
   "source": [
    "import numpy as np\n",
    "import os\n",
    "import cv2 as cv\n",
    "import matplotlib.pyplot as plt\n",
    "from sklearn.preprocessing import LabelEncoder\n",
    "from sklearn.metrics import classification_report, accuracy_score\n",
    "from sklearn.model_selection import train_test_split\n",
    "from tensorflow.keras.models import Sequential\n",
    "from tensorflow.keras.layers import Conv2D, MaxPooling2D, Flatten, Dense, Dropout, BatchNormalization, GlobalAveragePooling2D\n",
    "from tensorflow.keras.optimizers import Adam\n",
    "from tensorflow.keras.regularizers import l2\n",
    "from tensorflow.keras.preprocessing.image import ImageDataGenerator\n",
    "\n",
    "# Path to dataset\n",
    "dir = \"/kaggle/input/hindi-character-recognition/DevanagariHandwrittenCharacterDataset\"\n",
    "\n",
    "def get_array_from_images(need):\n",
    "    data = []\n",
    "    labels = []\n",
    "    path = os.path.join(dir, need)\n",
    "\n",
    "    for files in os.listdir(path):\n",
    "        each_words_dir = os.path.join(path, files)\n",
    "        for img in os.listdir(each_words_dir):\n",
    "            img_path = os.path.join(each_words_dir, img)\n",
    "            img_array = cv.imread(img_path)\n",
    "            img_array = cv.resize(img_array, (32, 32))  # Resize images to 32x32\n",
    "            data.append(img_array)\n",
    "            labels.append(files)\n",
    "\n",
    "    return (np.array(data), np.array(labels))\n",
    "\n",
    "# Load training and test data\n",
    "X_train, y_train = get_array_from_images('Train')\n",
    "X_test, y_test = get_array_from_images(\"Test\")\n",
    "\n",
    "# Normalize pixel values to [0, 1]\n",
    "X_train = X_train / 255.0\n",
    "X_test = X_test / 255.0\n",
    "\n",
    "# Initialize LabelEncoder to convert labels to integers\n",
    "le = LabelEncoder()\n",
    "y_train = le.fit_transform(y_train)\n",
    "y_test = le.transform(y_test)\n",
    "\n",
    "# Data Augmentation using ImageDataGenerator\n",
    "train_datagen = ImageDataGenerator(\n",
    "    rotation_range=20,\n",
    "    width_shift_range=0.2,\n",
    "    height_shift_range=0.2,\n",
    "    zoom_range=0.2,\n",
    "    shear_range=0.2,\n",
    "    horizontal_flip=True,\n",
    "    fill_mode='nearest'\n",
    ")\n",
    "\n",
    "train_datagen.fit(X_train)\n",
    "\n",
    "# Model architecture\n",
    "model = Sequential([\n",
    "    Conv2D(32, (3, 3), activation='relu', input_shape=(32, 32, 3)),\n",
    "    BatchNormalization(),\n",
    "    MaxPooling2D((2, 2)),\n",
    "\n",
    "    Conv2D(64, (3, 3), activation='relu'),\n",
    "    BatchNormalization(),\n",
    "    MaxPooling2D((2, 2)),\n",
    "\n",
    "    Conv2D(128, (3, 3), activation='relu'),\n",
    "    BatchNormalization(),\n",
    "    MaxPooling2D((2, 2)),\n",
    "\n",
    "    GlobalAveragePooling2D(),\n",
    "    Dense(512, activation='relu', kernel_regularizer=l2(0.01)),\n",
    "    Dropout(0.5),\n",
    "\n",
    "    Dense(46, activation='softmax')  \n",
    "])\n",
    "\n",
    "# Compile the model\n",
    "model.compile(\n",
    "    optimizer=Adam(),\n",
    "    loss='sparse_categorical_crossentropy',\n",
    "    metrics=['accuracy']\n",
    ")\n",
    "\n",
    "# Split data into training and validation sets\n",
    "X_train, X_val, y_train, y_val = train_test_split(X_train, y_train, test_size=0.2, random_state=33)\n",
    "\n",
    "# Train the model with data augmentation\n",
    "history = model.fit(\n",
    "    train_datagen.flow(X_train, y_train, batch_size=32),\n",
    "    validation_data=(X_val, y_val),\n",
    "    epochs=20,\n",
    "    steps_per_epoch=len(X_train) // 32\n",
    ")\n",
    "\n",
    "# Test the model on the test data\n",
    "y_pred = model.predict(X_test)\n",
    "y_pred = np.argmax(y_pred, axis=1)\n",
    "\n",
    "# Print the classification report and accuracy\n",
    "print(classification_report(y_test, y_pred))\n",
    "print(\"Accuracy: \", accuracy_score(y_test, y_pred))\n",
    "\n",
    "# Optionally visualize accuracy and loss over epochs\n",
    "plt.plot(range(0, 20), history.history['accuracy'], label='Accuracy')\n",
    "plt.plot(range(0, 20), history.history['val_accuracy'], label='Validation Accuracy')\n",
    "plt.plot(range(0, 20), history.history['loss'], label='Loss')\n",
    "plt.plot(range(0, 20), history.history['val_loss'], label='Validation Loss')\n",
    "plt.legend()\n",
    "plt.show()\n",
    "\n",
    "# Save the model for future use\n",
    "model.save('hindi_ocr_model_2.h5')"
   ]
  },
  {
   "cell_type": "code",
   "execution_count": 37,
   "id": "53df61f5",
   "metadata": {
    "execution": {
     "iopub.execute_input": "2025-01-16T07:32:23.403440Z",
     "iopub.status.busy": "2025-01-16T07:32:23.402880Z",
     "iopub.status.idle": "2025-01-16T07:48:51.237117Z",
     "shell.execute_reply": "2025-01-16T07:48:51.236167Z"
    },
    "papermill": {
     "duration": 988.387403,
     "end_time": "2025-01-16T07:48:51.238825",
     "exception": false,
     "start_time": "2025-01-16T07:32:22.851422",
     "status": "completed"
    },
    "tags": []
   },
   "outputs": [
    {
     "name": "stdout",
     "output_type": "stream",
     "text": [
      "Epoch 1/20\n"
     ]
    },
    {
     "name": "stderr",
     "output_type": "stream",
     "text": [
      "/usr/local/lib/python3.10/dist-packages/keras/src/layers/convolutional/base_conv.py:107: UserWarning: Do not pass an `input_shape`/`input_dim` argument to a layer. When using Sequential models, prefer using an `Input(shape)` object as the first layer in the model instead.\n",
      "  super().__init__(activity_regularizer=activity_regularizer, **kwargs)\n",
      "/usr/local/lib/python3.10/dist-packages/keras/src/trainers/data_adapters/py_dataset_adapter.py:121: UserWarning: Your `PyDataset` class should call `super().__init__(**kwargs)` in its constructor. `**kwargs` can include `workers`, `use_multiprocessing`, `max_queue_size`. Do not pass these arguments to `fit()`, as they will be ignored.\n",
      "  self._warn_if_super_not_called()\n"
     ]
    },
    {
     "name": "stdout",
     "output_type": "stream",
     "text": [
      "\u001b[1m1955/1955\u001b[0m \u001b[32m━━━━━━━━━━━━━━━━━━━━\u001b[0m\u001b[37m\u001b[0m \u001b[1m54s\u001b[0m 25ms/step - accuracy: 0.3919 - loss: 3.2671 - val_accuracy: 0.9102 - val_loss: 0.5672\n",
      "Epoch 2/20\n",
      "\u001b[1m1955/1955\u001b[0m \u001b[32m━━━━━━━━━━━━━━━━━━━━\u001b[0m\u001b[37m\u001b[0m \u001b[1m46s\u001b[0m 24ms/step - accuracy: 0.8232 - loss: 0.8533 - val_accuracy: 0.9259 - val_loss: 0.4805\n",
      "Epoch 3/20\n",
      "\u001b[1m1955/1955\u001b[0m \u001b[32m━━━━━━━━━━━━━━━━━━━━\u001b[0m\u001b[37m\u001b[0m \u001b[1m45s\u001b[0m 23ms/step - accuracy: 0.8581 - loss: 0.7177 - val_accuracy: 0.9320 - val_loss: 0.4545\n",
      "Epoch 4/20\n",
      "\u001b[1m1955/1955\u001b[0m \u001b[32m━━━━━━━━━━━━━━━━━━━━\u001b[0m\u001b[37m\u001b[0m \u001b[1m45s\u001b[0m 23ms/step - accuracy: 0.8781 - loss: 0.6422 - val_accuracy: 0.9488 - val_loss: 0.4256\n",
      "Epoch 5/20\n",
      "\u001b[1m1955/1955\u001b[0m \u001b[32m━━━━━━━━━━━━━━━━━━━━\u001b[0m\u001b[37m\u001b[0m \u001b[1m46s\u001b[0m 23ms/step - accuracy: 0.8916 - loss: 0.5989 - val_accuracy: 0.9625 - val_loss: 0.3670\n",
      "Epoch 6/20\n",
      "\u001b[1m1955/1955\u001b[0m \u001b[32m━━━━━━━━━━━━━━━━━━━━\u001b[0m\u001b[37m\u001b[0m \u001b[1m45s\u001b[0m 23ms/step - accuracy: 0.8929 - loss: 0.5934 - val_accuracy: 0.9607 - val_loss: 0.3631\n",
      "Epoch 7/20\n",
      "\u001b[1m1955/1955\u001b[0m \u001b[32m━━━━━━━━━━━━━━━━━━━━\u001b[0m\u001b[37m\u001b[0m \u001b[1m46s\u001b[0m 23ms/step - accuracy: 0.9025 - loss: 0.5555 - val_accuracy: 0.9709 - val_loss: 0.3365\n",
      "Epoch 8/20\n",
      "\u001b[1m1955/1955\u001b[0m \u001b[32m━━━━━━━━━━━━━━━━━━━━\u001b[0m\u001b[37m\u001b[0m \u001b[1m45s\u001b[0m 23ms/step - accuracy: 0.9044 - loss: 0.5473 - val_accuracy: 0.9688 - val_loss: 0.3304\n",
      "Epoch 9/20\n",
      "\u001b[1m1955/1955\u001b[0m \u001b[32m━━━━━━━━━━━━━━━━━━━━\u001b[0m\u001b[37m\u001b[0m \u001b[1m44s\u001b[0m 22ms/step - accuracy: 0.9090 - loss: 0.5397 - val_accuracy: 0.9665 - val_loss: 0.3475\n",
      "Epoch 10/20\n",
      "\u001b[1m1955/1955\u001b[0m \u001b[32m━━━━━━━━━━━━━━━━━━━━\u001b[0m\u001b[37m\u001b[0m \u001b[1m44s\u001b[0m 22ms/step - accuracy: 0.9095 - loss: 0.5343 - val_accuracy: 0.9673 - val_loss: 0.3398\n",
      "Epoch 11/20\n",
      "\u001b[1m1955/1955\u001b[0m \u001b[32m━━━━━━━━━━━━━━━━━━━━\u001b[0m\u001b[37m\u001b[0m \u001b[1m44s\u001b[0m 23ms/step - accuracy: 0.9160 - loss: 0.5062 - val_accuracy: 0.9723 - val_loss: 0.3252\n",
      "Epoch 12/20\n",
      "\u001b[1m1955/1955\u001b[0m \u001b[32m━━━━━━━━━━━━━━━━━━━━\u001b[0m\u001b[37m\u001b[0m \u001b[1m44s\u001b[0m 23ms/step - accuracy: 0.9168 - loss: 0.5061 - val_accuracy: 0.9682 - val_loss: 0.3361\n",
      "Epoch 13/20\n",
      "\u001b[1m1955/1955\u001b[0m \u001b[32m━━━━━━━━━━━━━━━━━━━━\u001b[0m\u001b[37m\u001b[0m \u001b[1m44s\u001b[0m 22ms/step - accuracy: 0.9201 - loss: 0.4929 - val_accuracy: 0.9718 - val_loss: 0.3253\n",
      "Epoch 14/20\n",
      "\u001b[1m1955/1955\u001b[0m \u001b[32m━━━━━━━━━━━━━━━━━━━━\u001b[0m\u001b[37m\u001b[0m \u001b[1m43s\u001b[0m 22ms/step - accuracy: 0.9237 - loss: 0.4871 - val_accuracy: 0.9738 - val_loss: 0.3238\n",
      "Epoch 15/20\n",
      "\u001b[1m1955/1955\u001b[0m \u001b[32m━━━━━━━━━━━━━━━━━━━━\u001b[0m\u001b[37m\u001b[0m \u001b[1m43s\u001b[0m 22ms/step - accuracy: 0.9224 - loss: 0.4829 - val_accuracy: 0.9712 - val_loss: 0.3291\n",
      "Epoch 16/20\n",
      "\u001b[1m1955/1955\u001b[0m \u001b[32m━━━━━━━━━━━━━━━━━━━━\u001b[0m\u001b[37m\u001b[0m \u001b[1m43s\u001b[0m 22ms/step - accuracy: 0.9260 - loss: 0.4770 - val_accuracy: 0.9724 - val_loss: 0.3159\n",
      "Epoch 17/20\n",
      "\u001b[1m1955/1955\u001b[0m \u001b[32m━━━━━━━━━━━━━━━━━━━━\u001b[0m\u001b[37m\u001b[0m \u001b[1m43s\u001b[0m 22ms/step - accuracy: 0.9247 - loss: 0.4852 - val_accuracy: 0.9773 - val_loss: 0.3116\n",
      "Epoch 18/20\n",
      "\u001b[1m1955/1955\u001b[0m \u001b[32m━━━━━━━━━━━━━━━━━━━━\u001b[0m\u001b[37m\u001b[0m \u001b[1m43s\u001b[0m 22ms/step - accuracy: 0.9260 - loss: 0.4768 - val_accuracy: 0.9765 - val_loss: 0.3045\n",
      "Epoch 19/20\n",
      "\u001b[1m1955/1955\u001b[0m \u001b[32m━━━━━━━━━━━━━━━━━━━━\u001b[0m\u001b[37m\u001b[0m \u001b[1m43s\u001b[0m 22ms/step - accuracy: 0.9280 - loss: 0.4743 - val_accuracy: 0.9789 - val_loss: 0.2897\n",
      "Epoch 20/20\n",
      "\u001b[1m1955/1955\u001b[0m \u001b[32m━━━━━━━━━━━━━━━━━━━━\u001b[0m\u001b[37m\u001b[0m \u001b[1m43s\u001b[0m 22ms/step - accuracy: 0.9308 - loss: 0.4499 - val_accuracy: 0.9793 - val_loss: 0.2942\n",
      "\u001b[1m432/432\u001b[0m \u001b[32m━━━━━━━━━━━━━━━━━━━━\u001b[0m\u001b[37m\u001b[0m \u001b[1m2s\u001b[0m 3ms/step\n",
      "              precision    recall  f1-score   support\n",
      "\n",
      "           0       1.00      0.97      0.98       300\n",
      "           1       0.99      0.97      0.98       300\n",
      "           2       0.98      0.99      0.99       300\n",
      "           3       0.96      0.98      0.97       300\n",
      "           4       0.99      0.94      0.96       300\n",
      "           5       1.00      0.99      0.99       300\n",
      "           6       0.95      0.99      0.97       300\n",
      "           7       0.98      0.96      0.97       300\n",
      "           8       0.94      0.99      0.96       300\n",
      "           9       0.99      0.97      0.98       300\n",
      "          10       0.98      1.00      0.99       300\n",
      "          11       0.99      0.99      0.99       300\n",
      "          12       0.98      0.98      0.98       300\n",
      "          13       0.99      0.99      0.99       300\n",
      "          14       0.98      0.95      0.97       300\n",
      "          15       0.99      0.94      0.97       300\n",
      "          16       0.95      1.00      0.97       300\n",
      "          17       0.95      0.99      0.97       300\n",
      "          18       0.99      0.95      0.97       300\n",
      "          19       0.99      0.99      0.99       300\n",
      "          20       0.95      0.97      0.96       300\n",
      "          21       1.00      1.00      1.00       300\n",
      "          22       1.00      0.98      0.99       300\n",
      "          23       0.99      0.99      0.99       300\n",
      "          24       0.99      0.98      0.98       300\n",
      "          25       0.97      0.98      0.98       300\n",
      "          26       1.00      0.98      0.99       300\n",
      "          27       0.97      0.98      0.98       300\n",
      "          28       0.99      0.96      0.98       300\n",
      "          29       0.99      1.00      1.00       300\n",
      "          30       0.94      0.97      0.95       300\n",
      "          31       1.00      0.98      0.99       300\n",
      "          32       0.99      0.98      0.98       300\n",
      "          33       0.97      0.96      0.97       300\n",
      "          34       0.95      1.00      0.98       300\n",
      "          35       0.99      0.99      0.99       300\n",
      "          36       1.00      0.98      0.99       300\n",
      "          37       0.99      0.99      0.99       300\n",
      "          38       0.94      0.99      0.96       300\n",
      "          39       0.95      0.99      0.97       300\n",
      "          40       1.00      0.99      0.99       300\n",
      "          41       0.99      0.99      0.99       300\n",
      "          42       0.99      0.96      0.98       300\n",
      "          43       0.99      0.98      0.98       300\n",
      "          44       0.98      1.00      0.99       300\n",
      "          45       1.00      0.99      0.99       300\n",
      "\n",
      "    accuracy                           0.98     13800\n",
      "   macro avg       0.98      0.98      0.98     13800\n",
      "weighted avg       0.98      0.98      0.98     13800\n",
      "\n",
      "Accuracy:  0.980072463768116\n"
     ]
    },
    {
     "data": {
      "image/png": "[encoded data removed]",
      "text/plain": [
       "<Figure size 640x480 with 1 Axes>"
      ]
     },
     "metadata": {},
     "output_type": "display_data"
    },
    {
     "data": {
      "image/png": "[encoded data removed]",
      "text/plain": [
       "<Figure size 1200x400 with 2 Axes>"
      ]
     },
     "metadata": {},
     "output_type": "display_data"
    }
   ],
   "source": [
    "import numpy as np\n",
    "import os\n",
    "import cv2 as cv\n",
    "from tensorflow.keras.models import Sequential\n",
    "from tensorflow.keras.layers import Conv2D, MaxPooling2D, GlobalAveragePooling2D, Dense, Dropout, BatchNormalization\n",
    "from tensorflow.keras.regularizers import l2\n",
    "from tensorflow.keras.preprocessing.image import ImageDataGenerator\n",
    "from sklearn.model_selection import train_test_split\n",
    "from sklearn.preprocessing import LabelEncoder\n",
    "from sklearn.metrics import classification_report, accuracy_score\n",
    "import matplotlib.pyplot as plt\n",
    "\n",
    "# Define directory for the dataset\n",
    "dir = \"/kaggle/input/hindi-character-recognition/DevanagariHandwrittenCharacterDataset\"\n",
    "\n",
    "# Function to read the images and labels from the dataset\n",
    "def get_array_from_images(need):\n",
    "    data = []\n",
    "    labels = []\n",
    "    \n",
    "    path = os.path.join(dir, need)\n",
    "\n",
    "    # Loop through each directory (each character) and read the images\n",
    "    for files in os.listdir(path):\n",
    "        each_words_dir = os.path.join(path, files)\n",
    "        for img in os.listdir(each_words_dir):\n",
    "            img_path = os.path.join(each_words_dir, img)\n",
    "            img_array = cv.imread(img_path)\n",
    "            img_array = cv.resize(img_array, (32, 32))  # Resize image to 32x32\n",
    "            data.append(img_array)\n",
    "            labels.append(files)  # Label is the character\n",
    "\n",
    "    return np.array(data), np.array(labels)\n",
    "\n",
    "# Load and preprocess the data\n",
    "X_train, y_train = get_array_from_images('Train')\n",
    "X_train = X_train / 255.0  # Normalize pixel values to [0, 1]\n",
    "\n",
    "X_test, y_test = get_array_from_images(\"Test\")\n",
    "X_test = X_test / 255.0  # Normalize pixel values to [0, 1]\n",
    "\n",
    "# Label encoding\n",
    "le = LabelEncoder()\n",
    "y_train = le.fit_transform(y_train)\n",
    "y_test = le.transform(y_test)\n",
    "\n",
    "# Save the LabelEncoder classes for future use\n",
    "np.save('label_classes.npy', le.classes_)\n",
    "\n",
    "# Train-validation split\n",
    "X_train, X_val, y_train, y_val = train_test_split(X_train, y_train, test_size=0.2, random_state=33)\n",
    "\n",
    "# Set up ImageDataGenerator for data augmentation\n",
    "train_datagen = ImageDataGenerator(\n",
    "    rotation_range=20,        # Random rotations\n",
    "    width_shift_range=0.2,    # Random horizontal shifts\n",
    "    height_shift_range=0.2,   # Random vertical shifts\n",
    "    shear_range=0.2,          # Random shearing\n",
    "    zoom_range=0.2,           # Random zoom\n",
    "    horizontal_flip=True,     # Random horizontal flip\n",
    "    fill_mode='nearest'       # Pixel filling method for empty space\n",
    ")\n",
    "\n",
    "val_datagen = ImageDataGenerator()\n",
    "\n",
    "# Create generators for training and validation\n",
    "train_generator = train_datagen.flow(X_train, y_train, batch_size=32)\n",
    "val_generator = val_datagen.flow(X_val, y_val, batch_size=32)\n",
    "input_size = (32, 32, 3)\n",
    "# Define the model\n",
    "# Build the model\n",
    "model = Sequential([\n",
    "    Conv2D(32, (3, 3), activation='relu', input_shape=input_size, padding='same'),\n",
    "    BatchNormalization(),\n",
    "    MaxPooling2D((2, 2)),\n",
    "\n",
    "    Conv2D(64, (3, 3), activation='relu', padding='same'),\n",
    "    BatchNormalization(),\n",
    "    MaxPooling2D((2, 2)),\n",
    "\n",
    "    Conv2D(128, (3, 3), activation='relu', padding='same'),\n",
    "    BatchNormalization(),\n",
    "    MaxPooling2D((2, 2)),\n",
    "\n",
    "    Conv2D(256, (3, 3), activation='relu', padding='same'),\n",
    "    BatchNormalization(),\n",
    "    MaxPooling2D((2, 2)),\n",
    "\n",
    "    GlobalAveragePooling2D(),\n",
    "    Dense(512, activation='relu', kernel_regularizer=l2(0.01)),\n",
    "    Dropout(0.5),\n",
    "\n",
    "    Dense(46, activation='softmax')\n",
    "])\n",
    "\n",
    "# Compile the model\n",
    "model.compile(\n",
    "    optimizer='adam',\n",
    "    loss='sparse_categorical_crossentropy',\n",
    "    metrics=['accuracy']\n",
    ")\n",
    "\n",
    "# Training the model with augmented data\n",
    "epochs = 20\n",
    "history = model.fit(\n",
    "    train_generator,\n",
    "    epochs=epochs,\n",
    "    validation_data=val_generator\n",
    ")\n",
    "\n",
    "# Testing the model\n",
    "y_pred = model.predict(X_test)\n",
    "y_pred = np.argmax(y_pred, axis=1)\n",
    "\n",
    "# Evaluation\n",
    "print(classification_report(y_test, y_pred))\n",
    "print(\"Accuracy: \", accuracy_score(y_test, y_pred))\n",
    "\n",
    "# Visualize some test results\n",
    "np.where(y_test == 19)  # Example: find indices of a specific label (e.g., label 19)\n",
    "plt.imshow(X_test[0])  # Display the first image from the test set\n",
    "plt.show()\n",
    "\n",
    "# Plot training history\n",
    "plt.figure(figsize=(12, 4))\n",
    "\n",
    "plt.subplot(1, 2, 1)\n",
    "plt.plot(range(epochs), history.history['accuracy'], label='Train Accuracy')\n",
    "plt.plot(range(epochs), history.history['val_accuracy'], label='Val Accuracy')\n",
    "plt.title('Model Accuracy')\n",
    "plt.xlabel('Epoch')\n",
    "plt.ylabel('Accuracy')\n",
    "plt.legend()\n",
    "\n",
    "plt.subplot(1, 2, 2)\n",
    "plt.plot(range(epochs), history.history['loss'], label='Train Loss')\n",
    "plt.plot(range(epochs), history.history['val_loss'], label='Val Loss')\n",
    "plt.title('Model Loss')\n",
    "plt.xlabel('Epoch')\n",
    "plt.ylabel('Loss')\n",
    "plt.legend()\n",
    "\n",
    "plt.tight_layout()\n",
    "plt.show()\n",
    "\n",
    "# Save the trained model\n",
    "model.save('ocr_model_with_augmentation.h5')\n"
   ]
  },
  {
   "cell_type": "code",
   "execution_count": 38,
   "id": "9dbabaeb",
   "metadata": {
    "execution": {
     "iopub.execute_input": "2025-01-16T07:48:53.696863Z",
     "iopub.status.busy": "2025-01-16T07:48:53.696541Z",
     "iopub.status.idle": "2025-01-16T07:48:53.707511Z",
     "shell.execute_reply": "2025-01-16T07:48:53.706751Z"
    },
    "papermill": {
     "duration": 1.314426,
     "end_time": "2025-01-16T07:48:53.708818",
     "exception": false,
     "start_time": "2025-01-16T07:48:52.394392",
     "status": "completed"
    },
    "tags": []
   },
   "outputs": [
    {
     "name": "stdout",
     "output_type": "stream",
     "text": [
      "Label classes saved as 'label_classes.npy'\n"
     ]
    }
   ],
   "source": [
    "import os\n",
    "import numpy as np\n",
    "from sklearn.preprocessing import LabelEncoder\n",
    "\n",
    "# Define the dataset directory\n",
    "dir = \"/kaggle/input/hindi-character-recognition/DevanagariHandwrittenCharacterDataset\"\n",
    "\n",
    "# Function to read labels from the dataset\n",
    "def get_labels(need):\n",
    "    labels = []\n",
    "    path = os.path.join(dir, need)\n",
    "\n",
    "    # Loop through each directory (each character) to collect labels\n",
    "    for files in os.listdir(path):\n",
    "        labels.append(files)  # Each folder name corresponds to a label\n",
    "\n",
    "    return np.array(labels)\n",
    "\n",
    "# Get unique labels from the training dataset\n",
    "unique_labels = get_labels('Train')\n",
    "\n",
    "# Encode the labels and save to a file\n",
    "le = LabelEncoder()\n",
    "le.fit(unique_labels)  # Fit the LabelEncoder with the unique labels\n",
    "np.save('label_classes.npy', le.classes_)  # Save the label classes\n",
    "\n",
    "print(\"Label classes saved as 'label_classes.npy'\")\n"
   ]
  },
  {
   "cell_type": "code",
   "execution_count": null,
   "id": "836eb1a3",
   "metadata": {
    "papermill": {
     "duration": 1.183977,
     "end_time": "2025-01-16T07:48:56.070597",
     "exception": false,
     "start_time": "2025-01-16T07:48:54.886620",
     "status": "completed"
    },
    "tags": []
   },
   "outputs": [],
   "source": []
  }
 ],
 "metadata": {
  "kaggle": {
   "accelerator": "gpu",
   "dataSources": [
    {
     "datasetId": 1582264,
     "sourceId": 2603511,
     "sourceType": "datasetVersion"
    },
    {
     "isSourceIdPinned": true,
     "modelId": 212685,
     "modelInstanceId": 190723,
     "sourceId": 223540,
     "sourceType": "modelInstanceVersion"
    }
   ],
   "dockerImageVersionId": 30823,
   "isGpuEnabled": true,
   "isInternetEnabled": true,
   "language": "python",
   "sourceType": "notebook"
  },
  "kernelspec": {
   "display_name": "Python 3",
   "language": "python",
   "name": "python3"
  },
  "language_info": {
   "codemirror_mode": {
    "name": "ipython",
    "version": 3
   },
   "file_extension": ".py",
   "mimetype": "text/x-python",
   "name": "python",
   "nbconvert_exporter": "python",
   "pygments_lexer": "ipython3",
   "version": "3.10.12"
  },
  "papermill": {
   "default_parameters": {},
   "duration": 2521.532392,
   "end_time": "2025-01-16T07:49:00.218959",
   "environment_variables": {},
   "exception": null,
   "input_path": "__notebook__.ipynb",
   "output_path": "__notebook__.ipynb",
   "parameters": {},
   "start_time": "2025-01-16T07:06:58.686567",
   "version": "2.6.0"
  }
 },
 "nbformat": 4,
 "nbformat_minor": 5
}
